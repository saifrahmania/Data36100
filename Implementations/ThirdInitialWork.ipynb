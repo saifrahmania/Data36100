{
 "cells": [
  {
   "cell_type": "code",
   "execution_count": 135,
   "metadata": {},
   "outputs": [
    {
     "data": {
      "text/html": [
       "<div>\n",
       "<style scoped>\n",
       "    .dataframe tbody tr th:only-of-type {\n",
       "        vertical-align: middle;\n",
       "    }\n",
       "\n",
       "    .dataframe tbody tr th {\n",
       "        vertical-align: top;\n",
       "    }\n",
       "\n",
       "    .dataframe thead th {\n",
       "        text-align: right;\n",
       "    }\n",
       "</style>\n",
       "<table border=\"1\" class=\"dataframe\">\n",
       "  <thead>\n",
       "    <tr style=\"text-align: right;\">\n",
       "      <th></th>\n",
       "      <th>Row ID</th>\n",
       "      <th>Order ID</th>\n",
       "      <th>Order Date</th>\n",
       "      <th>Ship Date</th>\n",
       "      <th>Ship Mode</th>\n",
       "      <th>Customer ID</th>\n",
       "      <th>Customer Name</th>\n",
       "      <th>Segment</th>\n",
       "      <th>Country</th>\n",
       "      <th>City</th>\n",
       "      <th>State</th>\n",
       "      <th>Postal Code</th>\n",
       "      <th>Region</th>\n",
       "      <th>Product ID</th>\n",
       "      <th>Category</th>\n",
       "      <th>Sub-Category</th>\n",
       "      <th>Product Name</th>\n",
       "      <th>Sales</th>\n",
       "    </tr>\n",
       "  </thead>\n",
       "  <tbody>\n",
       "    <tr>\n",
       "      <th>0</th>\n",
       "      <td>1</td>\n",
       "      <td>CA-2017-152156</td>\n",
       "      <td>08/11/2017</td>\n",
       "      <td>11/11/2017</td>\n",
       "      <td>Second Class</td>\n",
       "      <td>CG-12520</td>\n",
       "      <td>Claire Gute</td>\n",
       "      <td>Consumer</td>\n",
       "      <td>United States</td>\n",
       "      <td>Henderson</td>\n",
       "      <td>Kentucky</td>\n",
       "      <td>42420.0</td>\n",
       "      <td>South</td>\n",
       "      <td>FUR-BO-10001798</td>\n",
       "      <td>Furniture</td>\n",
       "      <td>Bookcases</td>\n",
       "      <td>Bush Somerset Collection Bookcase</td>\n",
       "      <td>261.9600</td>\n",
       "    </tr>\n",
       "    <tr>\n",
       "      <th>1</th>\n",
       "      <td>2</td>\n",
       "      <td>CA-2017-152156</td>\n",
       "      <td>08/11/2017</td>\n",
       "      <td>11/11/2017</td>\n",
       "      <td>Second Class</td>\n",
       "      <td>CG-12520</td>\n",
       "      <td>Claire Gute</td>\n",
       "      <td>Consumer</td>\n",
       "      <td>United States</td>\n",
       "      <td>Henderson</td>\n",
       "      <td>Kentucky</td>\n",
       "      <td>42420.0</td>\n",
       "      <td>South</td>\n",
       "      <td>FUR-CH-10000454</td>\n",
       "      <td>Furniture</td>\n",
       "      <td>Chairs</td>\n",
       "      <td>Hon Deluxe Fabric Upholstered Stacking Chairs,...</td>\n",
       "      <td>731.9400</td>\n",
       "    </tr>\n",
       "    <tr>\n",
       "      <th>2</th>\n",
       "      <td>3</td>\n",
       "      <td>CA-2017-138688</td>\n",
       "      <td>12/06/2017</td>\n",
       "      <td>16/06/2017</td>\n",
       "      <td>Second Class</td>\n",
       "      <td>DV-13045</td>\n",
       "      <td>Darrin Van Huff</td>\n",
       "      <td>Corporate</td>\n",
       "      <td>United States</td>\n",
       "      <td>Los Angeles</td>\n",
       "      <td>California</td>\n",
       "      <td>90036.0</td>\n",
       "      <td>West</td>\n",
       "      <td>OFF-LA-10000240</td>\n",
       "      <td>Office Supplies</td>\n",
       "      <td>Labels</td>\n",
       "      <td>Self-Adhesive Address Labels for Typewriters b...</td>\n",
       "      <td>14.6200</td>\n",
       "    </tr>\n",
       "    <tr>\n",
       "      <th>3</th>\n",
       "      <td>4</td>\n",
       "      <td>US-2016-108966</td>\n",
       "      <td>11/10/2016</td>\n",
       "      <td>18/10/2016</td>\n",
       "      <td>Standard Class</td>\n",
       "      <td>SO-20335</td>\n",
       "      <td>Sean O'Donnell</td>\n",
       "      <td>Consumer</td>\n",
       "      <td>United States</td>\n",
       "      <td>Fort Lauderdale</td>\n",
       "      <td>Florida</td>\n",
       "      <td>33311.0</td>\n",
       "      <td>South</td>\n",
       "      <td>FUR-TA-10000577</td>\n",
       "      <td>Furniture</td>\n",
       "      <td>Tables</td>\n",
       "      <td>Bretford CR4500 Series Slim Rectangular Table</td>\n",
       "      <td>957.5775</td>\n",
       "    </tr>\n",
       "    <tr>\n",
       "      <th>4</th>\n",
       "      <td>5</td>\n",
       "      <td>US-2016-108966</td>\n",
       "      <td>11/10/2016</td>\n",
       "      <td>18/10/2016</td>\n",
       "      <td>Standard Class</td>\n",
       "      <td>SO-20335</td>\n",
       "      <td>Sean O'Donnell</td>\n",
       "      <td>Consumer</td>\n",
       "      <td>United States</td>\n",
       "      <td>Fort Lauderdale</td>\n",
       "      <td>Florida</td>\n",
       "      <td>33311.0</td>\n",
       "      <td>South</td>\n",
       "      <td>OFF-ST-10000760</td>\n",
       "      <td>Office Supplies</td>\n",
       "      <td>Storage</td>\n",
       "      <td>Eldon Fold 'N Roll Cart System</td>\n",
       "      <td>22.3680</td>\n",
       "    </tr>\n",
       "    <tr>\n",
       "      <th>...</th>\n",
       "      <td>...</td>\n",
       "      <td>...</td>\n",
       "      <td>...</td>\n",
       "      <td>...</td>\n",
       "      <td>...</td>\n",
       "      <td>...</td>\n",
       "      <td>...</td>\n",
       "      <td>...</td>\n",
       "      <td>...</td>\n",
       "      <td>...</td>\n",
       "      <td>...</td>\n",
       "      <td>...</td>\n",
       "      <td>...</td>\n",
       "      <td>...</td>\n",
       "      <td>...</td>\n",
       "      <td>...</td>\n",
       "      <td>...</td>\n",
       "      <td>...</td>\n",
       "    </tr>\n",
       "    <tr>\n",
       "      <th>9795</th>\n",
       "      <td>9796</td>\n",
       "      <td>CA-2017-125920</td>\n",
       "      <td>21/05/2017</td>\n",
       "      <td>28/05/2017</td>\n",
       "      <td>Standard Class</td>\n",
       "      <td>SH-19975</td>\n",
       "      <td>Sally Hughsby</td>\n",
       "      <td>Corporate</td>\n",
       "      <td>United States</td>\n",
       "      <td>Chicago</td>\n",
       "      <td>Illinois</td>\n",
       "      <td>60610.0</td>\n",
       "      <td>Central</td>\n",
       "      <td>OFF-BI-10003429</td>\n",
       "      <td>Office Supplies</td>\n",
       "      <td>Binders</td>\n",
       "      <td>Cardinal HOLDit! Binder Insert Strips,Extra St...</td>\n",
       "      <td>3.7980</td>\n",
       "    </tr>\n",
       "    <tr>\n",
       "      <th>9796</th>\n",
       "      <td>9797</td>\n",
       "      <td>CA-2016-128608</td>\n",
       "      <td>12/01/2016</td>\n",
       "      <td>17/01/2016</td>\n",
       "      <td>Standard Class</td>\n",
       "      <td>CS-12490</td>\n",
       "      <td>Cindy Schnelling</td>\n",
       "      <td>Corporate</td>\n",
       "      <td>United States</td>\n",
       "      <td>Toledo</td>\n",
       "      <td>Ohio</td>\n",
       "      <td>43615.0</td>\n",
       "      <td>East</td>\n",
       "      <td>OFF-AR-10001374</td>\n",
       "      <td>Office Supplies</td>\n",
       "      <td>Art</td>\n",
       "      <td>BIC Brite Liner Highlighters, Chisel Tip</td>\n",
       "      <td>10.3680</td>\n",
       "    </tr>\n",
       "    <tr>\n",
       "      <th>9797</th>\n",
       "      <td>9798</td>\n",
       "      <td>CA-2016-128608</td>\n",
       "      <td>12/01/2016</td>\n",
       "      <td>17/01/2016</td>\n",
       "      <td>Standard Class</td>\n",
       "      <td>CS-12490</td>\n",
       "      <td>Cindy Schnelling</td>\n",
       "      <td>Corporate</td>\n",
       "      <td>United States</td>\n",
       "      <td>Toledo</td>\n",
       "      <td>Ohio</td>\n",
       "      <td>43615.0</td>\n",
       "      <td>East</td>\n",
       "      <td>TEC-PH-10004977</td>\n",
       "      <td>Technology</td>\n",
       "      <td>Phones</td>\n",
       "      <td>GE 30524EE4</td>\n",
       "      <td>235.1880</td>\n",
       "    </tr>\n",
       "    <tr>\n",
       "      <th>9798</th>\n",
       "      <td>9799</td>\n",
       "      <td>CA-2016-128608</td>\n",
       "      <td>12/01/2016</td>\n",
       "      <td>17/01/2016</td>\n",
       "      <td>Standard Class</td>\n",
       "      <td>CS-12490</td>\n",
       "      <td>Cindy Schnelling</td>\n",
       "      <td>Corporate</td>\n",
       "      <td>United States</td>\n",
       "      <td>Toledo</td>\n",
       "      <td>Ohio</td>\n",
       "      <td>43615.0</td>\n",
       "      <td>East</td>\n",
       "      <td>TEC-PH-10000912</td>\n",
       "      <td>Technology</td>\n",
       "      <td>Phones</td>\n",
       "      <td>Anker 24W Portable Micro USB Car Charger</td>\n",
       "      <td>26.3760</td>\n",
       "    </tr>\n",
       "    <tr>\n",
       "      <th>9799</th>\n",
       "      <td>9800</td>\n",
       "      <td>CA-2016-128608</td>\n",
       "      <td>12/01/2016</td>\n",
       "      <td>17/01/2016</td>\n",
       "      <td>Standard Class</td>\n",
       "      <td>CS-12490</td>\n",
       "      <td>Cindy Schnelling</td>\n",
       "      <td>Corporate</td>\n",
       "      <td>United States</td>\n",
       "      <td>Toledo</td>\n",
       "      <td>Ohio</td>\n",
       "      <td>43615.0</td>\n",
       "      <td>East</td>\n",
       "      <td>TEC-AC-10000487</td>\n",
       "      <td>Technology</td>\n",
       "      <td>Accessories</td>\n",
       "      <td>SanDisk Cruzer 4 GB USB Flash Drive</td>\n",
       "      <td>10.3840</td>\n",
       "    </tr>\n",
       "  </tbody>\n",
       "</table>\n",
       "<p>9800 rows × 18 columns</p>\n",
       "</div>"
      ],
      "text/plain": [
       "      Row ID        Order ID  Order Date   Ship Date       Ship Mode  \\\n",
       "0          1  CA-2017-152156  08/11/2017  11/11/2017    Second Class   \n",
       "1          2  CA-2017-152156  08/11/2017  11/11/2017    Second Class   \n",
       "2          3  CA-2017-138688  12/06/2017  16/06/2017    Second Class   \n",
       "3          4  US-2016-108966  11/10/2016  18/10/2016  Standard Class   \n",
       "4          5  US-2016-108966  11/10/2016  18/10/2016  Standard Class   \n",
       "...      ...             ...         ...         ...             ...   \n",
       "9795    9796  CA-2017-125920  21/05/2017  28/05/2017  Standard Class   \n",
       "9796    9797  CA-2016-128608  12/01/2016  17/01/2016  Standard Class   \n",
       "9797    9798  CA-2016-128608  12/01/2016  17/01/2016  Standard Class   \n",
       "9798    9799  CA-2016-128608  12/01/2016  17/01/2016  Standard Class   \n",
       "9799    9800  CA-2016-128608  12/01/2016  17/01/2016  Standard Class   \n",
       "\n",
       "     Customer ID     Customer Name    Segment        Country             City  \\\n",
       "0       CG-12520       Claire Gute   Consumer  United States        Henderson   \n",
       "1       CG-12520       Claire Gute   Consumer  United States        Henderson   \n",
       "2       DV-13045   Darrin Van Huff  Corporate  United States      Los Angeles   \n",
       "3       SO-20335    Sean O'Donnell   Consumer  United States  Fort Lauderdale   \n",
       "4       SO-20335    Sean O'Donnell   Consumer  United States  Fort Lauderdale   \n",
       "...          ...               ...        ...            ...              ...   \n",
       "9795    SH-19975     Sally Hughsby  Corporate  United States          Chicago   \n",
       "9796    CS-12490  Cindy Schnelling  Corporate  United States           Toledo   \n",
       "9797    CS-12490  Cindy Schnelling  Corporate  United States           Toledo   \n",
       "9798    CS-12490  Cindy Schnelling  Corporate  United States           Toledo   \n",
       "9799    CS-12490  Cindy Schnelling  Corporate  United States           Toledo   \n",
       "\n",
       "           State  Postal Code   Region       Product ID         Category  \\\n",
       "0       Kentucky      42420.0    South  FUR-BO-10001798        Furniture   \n",
       "1       Kentucky      42420.0    South  FUR-CH-10000454        Furniture   \n",
       "2     California      90036.0     West  OFF-LA-10000240  Office Supplies   \n",
       "3        Florida      33311.0    South  FUR-TA-10000577        Furniture   \n",
       "4        Florida      33311.0    South  OFF-ST-10000760  Office Supplies   \n",
       "...          ...          ...      ...              ...              ...   \n",
       "9795    Illinois      60610.0  Central  OFF-BI-10003429  Office Supplies   \n",
       "9796        Ohio      43615.0     East  OFF-AR-10001374  Office Supplies   \n",
       "9797        Ohio      43615.0     East  TEC-PH-10004977       Technology   \n",
       "9798        Ohio      43615.0     East  TEC-PH-10000912       Technology   \n",
       "9799        Ohio      43615.0     East  TEC-AC-10000487       Technology   \n",
       "\n",
       "     Sub-Category                                       Product Name     Sales  \n",
       "0       Bookcases                  Bush Somerset Collection Bookcase  261.9600  \n",
       "1          Chairs  Hon Deluxe Fabric Upholstered Stacking Chairs,...  731.9400  \n",
       "2          Labels  Self-Adhesive Address Labels for Typewriters b...   14.6200  \n",
       "3          Tables      Bretford CR4500 Series Slim Rectangular Table  957.5775  \n",
       "4         Storage                     Eldon Fold 'N Roll Cart System   22.3680  \n",
       "...           ...                                                ...       ...  \n",
       "9795      Binders  Cardinal HOLDit! Binder Insert Strips,Extra St...    3.7980  \n",
       "9796          Art           BIC Brite Liner Highlighters, Chisel Tip   10.3680  \n",
       "9797       Phones                                        GE 30524EE4  235.1880  \n",
       "9798       Phones           Anker 24W Portable Micro USB Car Charger   26.3760  \n",
       "9799  Accessories                SanDisk Cruzer 4 GB USB Flash Drive   10.3840  \n",
       "\n",
       "[9800 rows x 18 columns]"
      ]
     },
     "execution_count": 135,
     "metadata": {},
     "output_type": "execute_result"
    }
   ],
   "source": [
    "import pandas as pd\n",
    "\n",
    "# Read the CSV file\n",
    "df = pd.read_csv('D:/Documents/36100/DatasetSelection/archive/Data.csv')\n",
    "\n",
    "# Display the dataframe\n",
    "df"
   ]
  },
  {
   "cell_type": "code",
   "execution_count": 136,
   "metadata": {},
   "outputs": [
    {
     "data": {
      "text/plain": [
       "Row ID           False\n",
       "Order ID         False\n",
       "Order Date       False\n",
       "Ship Date        False\n",
       "Ship Mode        False\n",
       "Customer ID      False\n",
       "Customer Name    False\n",
       "Segment          False\n",
       "Country          False\n",
       "City             False\n",
       "State            False\n",
       "Postal Code       True\n",
       "Region           False\n",
       "Product ID       False\n",
       "Category         False\n",
       "Sub-Category     False\n",
       "Product Name     False\n",
       "Sales            False\n",
       "dtype: bool"
      ]
     },
     "execution_count": 136,
     "metadata": {},
     "output_type": "execute_result"
    }
   ],
   "source": [
    "df.isnull().any()"
   ]
  },
  {
   "cell_type": "code",
   "execution_count": 137,
   "metadata": {},
   "outputs": [
    {
     "data": {
      "text/plain": [
       "Row ID            0\n",
       "Order ID          0\n",
       "Order Date        0\n",
       "Ship Date         0\n",
       "Ship Mode         0\n",
       "Customer ID       0\n",
       "Customer Name     0\n",
       "Segment           0\n",
       "Country           0\n",
       "City              0\n",
       "State             0\n",
       "Postal Code      11\n",
       "Region            0\n",
       "Product ID        0\n",
       "Category          0\n",
       "Sub-Category      0\n",
       "Product Name      0\n",
       "Sales             0\n",
       "dtype: int64"
      ]
     },
     "execution_count": 137,
     "metadata": {},
     "output_type": "execute_result"
    }
   ],
   "source": [
    "df.isnull().sum()"
   ]
  },
  {
   "cell_type": "code",
   "execution_count": 138,
   "metadata": {},
   "outputs": [
    {
     "name": "stdout",
     "output_type": "stream",
     "text": [
      "Row ID             int64\n",
      "Order ID          object\n",
      "Order Date        object\n",
      "Ship Date         object\n",
      "Ship Mode         object\n",
      "Customer ID       object\n",
      "Customer Name     object\n",
      "Segment           object\n",
      "Country           object\n",
      "City              object\n",
      "State             object\n",
      "Postal Code      float64\n",
      "Region            object\n",
      "Product ID        object\n",
      "Category          object\n",
      "Sub-Category      object\n",
      "Product Name      object\n",
      "Sales            float64\n",
      "dtype: object\n"
     ]
    }
   ],
   "source": [
    "column_value_types = df.dtypes\n",
    "print(column_value_types)"
   ]
  },
  {
   "cell_type": "code",
   "execution_count": 139,
   "metadata": {},
   "outputs": [
    {
     "data": {
      "text/plain": [
       "False"
      ]
     },
     "execution_count": 139,
     "metadata": {},
     "output_type": "execute_result"
    }
   ],
   "source": [
    "df.duplicated().any()"
   ]
  },
  {
   "cell_type": "code",
   "execution_count": 140,
   "metadata": {},
   "outputs": [
    {
     "data": {
      "text/plain": [
       "Index(['Row ID', 'Order ID', 'Order Date', 'Ship Date', 'Ship Mode',\n",
       "       'Customer ID', 'Customer Name', 'Segment', 'Country', 'City', 'State',\n",
       "       'Postal Code', 'Region', 'Product ID', 'Category', 'Sub-Category',\n",
       "       'Product Name', 'Sales'],\n",
       "      dtype='object')"
      ]
     },
     "execution_count": 140,
     "metadata": {},
     "output_type": "execute_result"
    }
   ],
   "source": [
    "df.columns"
   ]
  },
  {
   "cell_type": "code",
   "execution_count": 141,
   "metadata": {},
   "outputs": [
    {
     "name": "stdout",
     "output_type": "stream",
     "text": [
      "True\n"
     ]
    }
   ],
   "source": [
    "# Check for missing or NaN values in 'Postal Code' column\n",
    "missing_values = df['Postal Code'].isnull().any()\n",
    "print(missing_values)"
   ]
  },
  {
   "cell_type": "code",
   "execution_count": 142,
   "metadata": {},
   "outputs": [
    {
     "name": "stdout",
     "output_type": "stream",
     "text": [
      "      Row ID        Order ID  Order Date   Ship Date       Ship Mode  \\\n",
      "2234    2235  CA-2018-104066  05/12/2018  10/12/2018  Standard Class   \n",
      "5274    5275  CA-2016-162887  07/11/2016  09/11/2016    Second Class   \n",
      "8798    8799  US-2017-150140  06/04/2017  10/04/2017  Standard Class   \n",
      "9146    9147  US-2017-165505  23/01/2017  27/01/2017  Standard Class   \n",
      "9147    9148  US-2017-165505  23/01/2017  27/01/2017  Standard Class   \n",
      "9148    9149  US-2017-165505  23/01/2017  27/01/2017  Standard Class   \n",
      "9386    9387  US-2018-127292  19/01/2018  23/01/2018  Standard Class   \n",
      "9387    9388  US-2018-127292  19/01/2018  23/01/2018  Standard Class   \n",
      "9388    9389  US-2018-127292  19/01/2018  23/01/2018  Standard Class   \n",
      "9389    9390  US-2018-127292  19/01/2018  23/01/2018  Standard Class   \n",
      "9741    9742  CA-2016-117086  08/11/2016  12/11/2016  Standard Class   \n",
      "\n",
      "     Customer ID     Customer Name      Segment        Country        City  \\\n",
      "2234    QJ-19255      Quincy Jones    Corporate  United States  Burlington   \n",
      "5274    SV-20785  Stewart Visinsky     Consumer  United States  Burlington   \n",
      "8798    VM-21685   Valerie Mitchum  Home Office  United States  Burlington   \n",
      "9146    CB-12535  Claudia Bergmann    Corporate  United States  Burlington   \n",
      "9147    CB-12535  Claudia Bergmann    Corporate  United States  Burlington   \n",
      "9148    CB-12535  Claudia Bergmann    Corporate  United States  Burlington   \n",
      "9386    RM-19375     Raymond Messe     Consumer  United States  Burlington   \n",
      "9387    RM-19375     Raymond Messe     Consumer  United States  Burlington   \n",
      "9388    RM-19375     Raymond Messe     Consumer  United States  Burlington   \n",
      "9389    RM-19375     Raymond Messe     Consumer  United States  Burlington   \n",
      "9741    QJ-19255      Quincy Jones    Corporate  United States  Burlington   \n",
      "\n",
      "        State  Postal Code Region       Product ID         Category  \\\n",
      "2234  Vermont          NaN   East  TEC-AC-10001013       Technology   \n",
      "5274  Vermont          NaN   East  FUR-CH-10000595        Furniture   \n",
      "8798  Vermont          NaN   East  TEC-PH-10002555       Technology   \n",
      "9146  Vermont          NaN   East  TEC-AC-10002926       Technology   \n",
      "9147  Vermont          NaN   East  OFF-AR-10003477  Office Supplies   \n",
      "9148  Vermont          NaN   East  OFF-ST-10001526  Office Supplies   \n",
      "9386  Vermont          NaN   East  OFF-PA-10000157  Office Supplies   \n",
      "9387  Vermont          NaN   East  OFF-PA-10001970  Office Supplies   \n",
      "9388  Vermont          NaN   East  OFF-AP-10000828  Office Supplies   \n",
      "9389  Vermont          NaN   East  OFF-EN-10001509  Office Supplies   \n",
      "9741  Vermont          NaN   East  FUR-BO-10004834        Furniture   \n",
      "\n",
      "     Sub-Category                                       Product Name    Sales  \n",
      "2234  Accessories        Logitech ClearChat Comfort/USB Headset H390   205.03  \n",
      "5274       Chairs                    Safco Contoured Stacking Chairs   715.20  \n",
      "8798       Phones                Nortel Meridian M5316 Digital phone  1294.75  \n",
      "9146  Accessories              Logitech Wireless Marathon Mouse M705    99.98  \n",
      "9147          Art                                  4009 Highlighters     8.04  \n",
      "9148      Storage              Iceberg Mobile Mega Data/Printer Cart  1564.29  \n",
      "9386        Paper                                          Xerox 191    79.92  \n",
      "9387        Paper                                         Xerox 1881    12.28  \n",
      "9388   Appliances                    Avanti 4.4 Cu. Ft. Refrigerator   542.94  \n",
      "9389    Envelopes                          Poly String Tie Envelopes     2.04  \n",
      "9741    Bookcases  Riverside Palais Royal Lawyers Bookcase, Royal...  4404.90  \n"
     ]
    }
   ],
   "source": [
    "missing_postal_codes = df[df['Postal Code'].isnull()]\n",
    "print(missing_postal_codes)\n"
   ]
  },
  {
   "cell_type": "code",
   "execution_count": 143,
   "metadata": {},
   "outputs": [
    {
     "name": "stdout",
     "output_type": "stream",
     "text": [
      "Postal Code\n",
      "10035.0    253\n",
      "10024.0    225\n",
      "10009.0    220\n",
      "94122.0    195\n",
      "10011.0    193\n",
      "          ... \n",
      "32935.0      1\n",
      "76248.0      1\n",
      "32127.0      1\n",
      "32503.0      1\n",
      "72762.0      1\n",
      "Name: count, Length: 626, dtype: int64\n"
     ]
    }
   ],
   "source": [
    "postal_code_counts = df['Postal Code'].value_counts()\n",
    "print(postal_code_counts)"
   ]
  },
  {
   "cell_type": "code",
   "execution_count": 144,
   "metadata": {},
   "outputs": [
    {
     "name": "stdout",
     "output_type": "stream",
     "text": [
      "            City    State\n",
      "2234  Burlington  Vermont\n",
      "5274  Burlington  Vermont\n",
      "8798  Burlington  Vermont\n",
      "9146  Burlington  Vermont\n",
      "9147  Burlington  Vermont\n",
      "9148  Burlington  Vermont\n",
      "9386  Burlington  Vermont\n",
      "9387  Burlington  Vermont\n",
      "9388  Burlington  Vermont\n",
      "9389  Burlington  Vermont\n",
      "9741  Burlington  Vermont\n"
     ]
    }
   ],
   "source": [
    "missing_postal_codes = df[df['Postal Code'].isnull()][['City', 'State']]\n",
    "print(missing_postal_codes)"
   ]
  },
  {
   "cell_type": "code",
   "execution_count": 145,
   "metadata": {},
   "outputs": [
    {
     "name": "stdout",
     "output_type": "stream",
     "text": [
      "[nan]\n"
     ]
    }
   ],
   "source": [
    "other_postal_codes = df[(df['City'] == 'Burlington') & (df['State'] == 'Vermont')]['Postal Code'].unique()\n",
    "print(other_postal_codes)"
   ]
  },
  {
   "cell_type": "code",
   "execution_count": 146,
   "metadata": {},
   "outputs": [
    {
     "name": "stdout",
     "output_type": "stream",
     "text": [
      "      Row ID        Order ID  Order Date   Ship Date       Ship Mode  \\\n",
      "683      684  US-2018-168116  04/11/2018  04/11/2018        Same Day   \n",
      "1008    1009  US-2018-106705  26/12/2018  01/01/2019  Standard Class   \n",
      "2234    2235  CA-2018-104066  05/12/2018  10/12/2018  Standard Class   \n",
      "\n",
      "     Customer ID    Customer Name    Segment        Country        City  \\\n",
      "683     GT-14635   Grant Thornton  Corporate  United States  Burlington   \n",
      "1008    PO-18850  Patrick O'Brill   Consumer  United States  Burlington   \n",
      "2234    QJ-19255     Quincy Jones  Corporate  United States  Burlington   \n",
      "\n",
      "               State  Postal Code   Region       Product ID         Category  \\\n",
      "683   North Carolina      27217.0    South  TEC-MA-10004125       Technology   \n",
      "1008            Iowa      52601.0  Central  OFF-PA-10001509  Office Supplies   \n",
      "2234         Vermont          NaN     East  TEC-AC-10001013       Technology   \n",
      "\n",
      "     Sub-Category                                       Product Name    Sales  \n",
      "683      Machines          Cubify CubeX 3D Printer Triple Head Print  7999.98  \n",
      "1008        Paper  Recycled Desk Saver Line \"While You Were Out\" ...    44.75  \n",
      "2234  Accessories        Logitech ClearChat Comfort/USB Headset H390   205.03  \n"
     ]
    }
   ],
   "source": [
    "unique_burlington_entries = df[df['City'] == 'Burlington'].drop_duplicates(subset='Postal Code')\n",
    "print(unique_burlington_entries)\n"
   ]
  },
  {
   "cell_type": "code",
   "execution_count": 147,
   "metadata": {},
   "outputs": [
    {
     "name": "stdout",
     "output_type": "stream",
     "text": [
      "      Row ID        Order ID  Order Date   Ship Date       Ship Mode  \\\n",
      "2234    2235  CA-2018-104066  05/12/2018  10/12/2018  Standard Class   \n",
      "5274    5275  CA-2016-162887  07/11/2016  09/11/2016    Second Class   \n",
      "8798    8799  US-2017-150140  06/04/2017  10/04/2017  Standard Class   \n",
      "9146    9147  US-2017-165505  23/01/2017  27/01/2017  Standard Class   \n",
      "9147    9148  US-2017-165505  23/01/2017  27/01/2017  Standard Class   \n",
      "9148    9149  US-2017-165505  23/01/2017  27/01/2017  Standard Class   \n",
      "9386    9387  US-2018-127292  19/01/2018  23/01/2018  Standard Class   \n",
      "9387    9388  US-2018-127292  19/01/2018  23/01/2018  Standard Class   \n",
      "9388    9389  US-2018-127292  19/01/2018  23/01/2018  Standard Class   \n",
      "9389    9390  US-2018-127292  19/01/2018  23/01/2018  Standard Class   \n",
      "9741    9742  CA-2016-117086  08/11/2016  12/11/2016  Standard Class   \n",
      "\n",
      "     Customer ID     Customer Name      Segment        Country        City  \\\n",
      "2234    QJ-19255      Quincy Jones    Corporate  United States  Burlington   \n",
      "5274    SV-20785  Stewart Visinsky     Consumer  United States  Burlington   \n",
      "8798    VM-21685   Valerie Mitchum  Home Office  United States  Burlington   \n",
      "9146    CB-12535  Claudia Bergmann    Corporate  United States  Burlington   \n",
      "9147    CB-12535  Claudia Bergmann    Corporate  United States  Burlington   \n",
      "9148    CB-12535  Claudia Bergmann    Corporate  United States  Burlington   \n",
      "9386    RM-19375     Raymond Messe     Consumer  United States  Burlington   \n",
      "9387    RM-19375     Raymond Messe     Consumer  United States  Burlington   \n",
      "9388    RM-19375     Raymond Messe     Consumer  United States  Burlington   \n",
      "9389    RM-19375     Raymond Messe     Consumer  United States  Burlington   \n",
      "9741    QJ-19255      Quincy Jones    Corporate  United States  Burlington   \n",
      "\n",
      "        State  Postal Code Region       Product ID         Category  \\\n",
      "2234  Vermont          NaN   East  TEC-AC-10001013       Technology   \n",
      "5274  Vermont          NaN   East  FUR-CH-10000595        Furniture   \n",
      "8798  Vermont          NaN   East  TEC-PH-10002555       Technology   \n",
      "9146  Vermont          NaN   East  TEC-AC-10002926       Technology   \n",
      "9147  Vermont          NaN   East  OFF-AR-10003477  Office Supplies   \n",
      "9148  Vermont          NaN   East  OFF-ST-10001526  Office Supplies   \n",
      "9386  Vermont          NaN   East  OFF-PA-10000157  Office Supplies   \n",
      "9387  Vermont          NaN   East  OFF-PA-10001970  Office Supplies   \n",
      "9388  Vermont          NaN   East  OFF-AP-10000828  Office Supplies   \n",
      "9389  Vermont          NaN   East  OFF-EN-10001509  Office Supplies   \n",
      "9741  Vermont          NaN   East  FUR-BO-10004834        Furniture   \n",
      "\n",
      "     Sub-Category                                       Product Name    Sales  \n",
      "2234  Accessories        Logitech ClearChat Comfort/USB Headset H390   205.03  \n",
      "5274       Chairs                    Safco Contoured Stacking Chairs   715.20  \n",
      "8798       Phones                Nortel Meridian M5316 Digital phone  1294.75  \n",
      "9146  Accessories              Logitech Wireless Marathon Mouse M705    99.98  \n",
      "9147          Art                                  4009 Highlighters     8.04  \n",
      "9148      Storage              Iceberg Mobile Mega Data/Printer Cart  1564.29  \n",
      "9386        Paper                                          Xerox 191    79.92  \n",
      "9387        Paper                                         Xerox 1881    12.28  \n",
      "9388   Appliances                    Avanti 4.4 Cu. Ft. Refrigerator   542.94  \n",
      "9389    Envelopes                          Poly String Tie Envelopes     2.04  \n",
      "9741    Bookcases  Riverside Palais Royal Lawyers Bookcase, Royal...  4404.90  \n"
     ]
    }
   ],
   "source": [
    "vermont_entries = df[df['State'] == 'Vermont']\n",
    "print(vermont_entries)\n"
   ]
  },
  {
   "cell_type": "code",
   "execution_count": 148,
   "metadata": {},
   "outputs": [
    {
     "name": "stdout",
     "output_type": "stream",
     "text": [
      "['North Carolina' 'Iowa']\n"
     ]
    }
   ],
   "source": [
    "other_states = df[(df['City'] == 'Burlington') & (~df['Postal Code'].isnull())]['State'].unique()\n",
    "print(other_states)"
   ]
  },
  {
   "cell_type": "code",
   "execution_count": 149,
   "metadata": {},
   "outputs": [
    {
     "name": "stdout",
     "output_type": "stream",
     "text": [
      "State\n",
      "North Carolina    247\n",
      "Iowa               26\n",
      "Name: count, dtype: int64\n"
     ]
    }
   ],
   "source": [
    "state_counts = df[df['State'].isin(['North Carolina', 'Iowa'])]['State'].value_counts()\n",
    "print(state_counts)"
   ]
  },
  {
   "cell_type": "code",
   "execution_count": 150,
   "metadata": {},
   "outputs": [
    {
     "name": "stdout",
     "output_type": "stream",
     "text": [
      "Empty DataFrame\n",
      "Columns: [Row ID, Order ID, Order Date, Ship Date, Ship Mode, Customer ID, Customer Name, Segment, Country, City, State, Postal Code, Region, Product ID, Category, Sub-Category, Product Name, Sales]\n",
      "Index: []\n"
     ]
    }
   ],
   "source": [
    "vermont_entries = df[(df['State'] == 'Vermont') & (~df['Postal Code'].isnull())]\n",
    "print(vermont_entries)"
   ]
  },
  {
   "cell_type": "code",
   "execution_count": 151,
   "metadata": {},
   "outputs": [
    {
     "name": "stdout",
     "output_type": "stream",
     "text": [
      "793\n"
     ]
    }
   ],
   "source": [
    "unique_customer_count = df['Customer ID'].nunique()\n",
    "print(unique_customer_count)"
   ]
  },
  {
   "cell_type": "code",
   "execution_count": 152,
   "metadata": {},
   "outputs": [
    {
     "name": "stdout",
     "output_type": "stream",
     "text": [
      "0      2017-08-11\n",
      "1      2017-08-11\n",
      "2      2017-12-06\n",
      "3      2016-11-10\n",
      "4      2016-11-10\n",
      "          ...    \n",
      "9795          NaT\n",
      "9796   2016-12-01\n",
      "9797   2016-12-01\n",
      "9798   2016-12-01\n",
      "9799   2016-12-01\n",
      "Name: Order Date, Length: 9800, dtype: datetime64[ns]\n"
     ]
    }
   ],
   "source": [
    "import pandas as pd\n",
    "\n",
    "# Assuming df is your DataFrame\n",
    "# Convert 'Order Date' and 'Ship Date' columns to datetime\n",
    "order_date_errors = pd.to_datetime(df['Order Date'], errors='coerce')\n",
    "ship_date_errors = pd.to_datetime(df['Ship Date'], errors='coerce').isnull().sum()\n",
    "\n",
    "print(order_date_errors)"
   ]
  },
  {
   "cell_type": "code",
   "execution_count": null,
   "metadata": {
    "vscode": {
     "languageId": "sql"
    }
   },
   "outputs": [],
   "source": []
  },
  {
   "cell_type": "code",
   "execution_count": 153,
   "metadata": {
    "vscode": {
     "languageId": "sql"
    }
   },
   "outputs": [
    {
     "name": "stdout",
     "output_type": "stream",
     "text": [
      "Number of rows where both order date and ship date are not valid dates: 4702\n",
      "Number of rows where only order date is not a valid date: 1139\n",
      "Number of rows where only ship date is not a valid date: 1283\n"
     ]
    }
   ],
   "source": [
    "import pandas as pd\n",
    "\n",
    "# Convert 'Order Date' and 'Ship Date' columns to datetime, coercing errors to NaT\n",
    "df['Order Date'] = pd.to_datetime(df['Order Date'], errors='coerce')\n",
    "df['Ship Date'] = pd.to_datetime(df['Ship Date'], errors='coerce')\n",
    "\n",
    "# Count the number of rows where both order date and ship date are not valid dates\n",
    "both_not_a_date = df[df['Order Date'].isna() & df['Ship Date'].isna()].shape[0]\n",
    "\n",
    "# Count the number of rows where only order date is not a valid date\n",
    "only_order_not_a_date = df[df['Order Date'].isna() & df['Ship Date'].notna()].shape[0]\n",
    "\n",
    "# Count the number of rows where only ship date is not a valid date\n",
    "only_ship_not_a_date = df[df['Order Date'].notna() & df['Ship Date'].isna()].shape[0]\n",
    "\n",
    "# Print the results\n",
    "print(\"Number of rows where both order date and ship date are not valid dates:\", both_not_a_date)\n",
    "print(\"Number of rows where only order date is not a valid date:\", only_order_not_a_date)\n",
    "print(\"Number of rows where only ship date is not a valid date:\", only_ship_not_a_date)"
   ]
  },
  {
   "cell_type": "code",
   "execution_count": 154,
   "metadata": {},
   "outputs": [
    {
     "name": "stdout",
     "output_type": "stream",
     "text": [
      "Total number of rows: 9800\n"
     ]
    }
   ],
   "source": [
    "total_rows = df.shape[0]\n",
    "print(\"Total number of rows:\", total_rows)\n"
   ]
  },
  {
   "cell_type": "code",
   "execution_count": 155,
   "metadata": {},
   "outputs": [
    {
     "name": "stdout",
     "output_type": "stream",
     "text": [
      "Column: Ship Mode, Type of first element: <class 'str'>\n",
      "Column: Customer ID, Type of first element: <class 'str'>\n",
      "Column: Customer Name, Type of first element: <class 'str'>\n",
      "Column: Segment, Type of first element: <class 'str'>\n",
      "Column: Country, Type of first element: <class 'str'>\n",
      "Column: City, Type of first element: <class 'str'>\n",
      "Column: State, Type of first element: <class 'str'>\n",
      "Column: Region, Type of first element: <class 'str'>\n",
      "Column: Product ID, Type of first element: <class 'str'>\n",
      "Column: Category, Type of first element: <class 'str'>\n",
      "Column: Sub-Category, Type of first element: <class 'str'>\n",
      "Column: Product Name, Type of first element: <class 'str'>\n"
     ]
    }
   ],
   "source": [
    "df['Order Date'] = pd.to_datetime(df['Order Date'], format=\"%m/%d/%Y\", errors='coerce')\n",
    "df['Ship Date'] = pd.to_datetime(df['Ship Date'], format=\"%m/%d/%Y\", errors='coerce')\n",
    "df['Order Date'] = pd.to_datetime(df['Order Date'], format=\"%d/%m/%Y\", errors='coerce')\n",
    "df['Ship Date'] = pd.to_datetime(df['Ship Date'], format=\"%d/%m/%Y\", errors='coerce')\n",
    "\n",
    "# Convert other columns to string type\n",
    "columns_to_convert = [\n",
    "    'Ship Mode', 'Customer ID', 'Customer Name', 'Segment', 'Country', \n",
    "    'City', 'State', 'Region', 'Product ID', 'Category', 'Sub-Category', 'Product Name'\n",
    "]\n",
    "\n",
    "for column in columns_to_convert:\n",
    "    df[column] = df[column].astype(str)\n",
    "\n",
    "# Verify the data types\n",
    "# print(df.dtypes)\n",
    "\n",
    "# Check the type of the elements within the columns\n",
    "for column in columns_to_convert:\n",
    "    print(f\"Column: {column}, Type of first element: {type(df[column].iloc[0])}\")"
   ]
  },
  {
   "cell_type": "code",
   "execution_count": 156,
   "metadata": {},
   "outputs": [
    {
     "name": "stdout",
     "output_type": "stream",
     "text": [
      "Rows with missing date values:\n",
      "    Row ID        Order ID Order Date Ship Date       Ship Mode Customer ID  \\\n",
      "2        3  CA-2017-138688 2017-12-06       NaT    Second Class    DV-13045   \n",
      "3        4  US-2016-108966 2016-11-10       NaT  Standard Class    SO-20335   \n",
      "4        5  US-2016-108966 2016-11-10       NaT  Standard Class    SO-20335   \n",
      "5        6  CA-2015-115812 2015-09-06       NaT  Standard Class    BH-11710   \n",
      "6        7  CA-2015-115812 2015-09-06       NaT  Standard Class    BH-11710   \n",
      "7        8  CA-2015-115812 2015-09-06       NaT  Standard Class    BH-11710   \n",
      "8        9  CA-2015-115812 2015-09-06       NaT  Standard Class    BH-11710   \n",
      "9       10  CA-2015-115812 2015-09-06       NaT  Standard Class    BH-11710   \n",
      "10      11  CA-2015-115812 2015-09-06       NaT  Standard Class    BH-11710   \n",
      "11      12  CA-2015-115812 2015-09-06       NaT  Standard Class    BH-11710   \n",
      "\n",
      "      Customer Name    Segment        Country             City       State  \\\n",
      "2   Darrin Van Huff  Corporate  United States      Los Angeles  California   \n",
      "3    Sean O'Donnell   Consumer  United States  Fort Lauderdale     Florida   \n",
      "4    Sean O'Donnell   Consumer  United States  Fort Lauderdale     Florida   \n",
      "5   Brosina Hoffman   Consumer  United States      Los Angeles  California   \n",
      "6   Brosina Hoffman   Consumer  United States      Los Angeles  California   \n",
      "7   Brosina Hoffman   Consumer  United States      Los Angeles  California   \n",
      "8   Brosina Hoffman   Consumer  United States      Los Angeles  California   \n",
      "9   Brosina Hoffman   Consumer  United States      Los Angeles  California   \n",
      "10  Brosina Hoffman   Consumer  United States      Los Angeles  California   \n",
      "11  Brosina Hoffman   Consumer  United States      Los Angeles  California   \n",
      "\n",
      "    Postal Code Region       Product ID         Category Sub-Category  \\\n",
      "2       90036.0   West  OFF-LA-10000240  Office Supplies       Labels   \n",
      "3       33311.0  South  FUR-TA-10000577        Furniture       Tables   \n",
      "4       33311.0  South  OFF-ST-10000760  Office Supplies      Storage   \n",
      "5       90032.0   West  FUR-FU-10001487        Furniture  Furnishings   \n",
      "6       90032.0   West  OFF-AR-10002833  Office Supplies          Art   \n",
      "7       90032.0   West  TEC-PH-10002275       Technology       Phones   \n",
      "8       90032.0   West  OFF-BI-10003910  Office Supplies      Binders   \n",
      "9       90032.0   West  OFF-AP-10002892  Office Supplies   Appliances   \n",
      "10      90032.0   West  FUR-TA-10001539        Furniture       Tables   \n",
      "11      90032.0   West  TEC-PH-10002033       Technology       Phones   \n",
      "\n",
      "                                         Product Name      Sales  \n",
      "2   Self-Adhesive Address Labels for Typewriters b...    14.6200  \n",
      "3       Bretford CR4500 Series Slim Rectangular Table   957.5775  \n",
      "4                      Eldon Fold 'N Roll Cart System    22.3680  \n",
      "5   Eldon Expressions Wood and Plastic Desk Access...    48.8600  \n",
      "6                                          Newell 322     7.2800  \n",
      "7                      Mitel 5320 IP Phone VoIP phone   907.1520  \n",
      "8   DXL Angle-View Binders with Locking Rings by S...    18.5040  \n",
      "9                    Belkin F5C206VTEL 6 Outlet Surge   114.9000  \n",
      "10           Chromcraft Rectangular Conference Tables  1706.1840  \n",
      "11      Konftel 250 Conference phone - Charcoal black   911.4240  \n",
      "Rows with complete date values:\n",
      "    Row ID        Order ID Order Date  Ship Date       Ship Mode Customer ID  \\\n",
      "0        1  CA-2017-152156 2017-08-11 2017-11-11    Second Class    CG-12520   \n",
      "1        2  CA-2017-152156 2017-08-11 2017-11-11    Second Class    CG-12520   \n",
      "13      14  CA-2017-161389 2017-05-12 2017-10-12  Standard Class    IM-15070   \n",
      "35      36  CA-2017-117590 2017-08-12 2017-10-12     First Class    GH-14485   \n",
      "36      37  CA-2017-117590 2017-08-12 2017-10-12     First Class    GH-14485   \n",
      "67      68  CA-2015-106376 2015-05-12 2015-10-12  Standard Class    BS-11590   \n",
      "68      69  CA-2015-106376 2015-05-12 2015-10-12  Standard Class    BS-11590   \n",
      "69      70  CA-2017-119823 2017-04-06 2017-06-06     First Class    KD-16270   \n",
      "75      76  US-2018-118038 2018-09-12 2018-11-12     First Class    KB-16600   \n",
      "76      77  US-2018-118038 2018-09-12 2018-11-12     First Class    KB-16600   \n",
      "\n",
      "    Customer Name    Segment        Country         City       State  \\\n",
      "0     Claire Gute   Consumer  United States    Henderson    Kentucky   \n",
      "1     Claire Gute   Consumer  United States    Henderson    Kentucky   \n",
      "13   Irene Maddox   Consumer  United States      Seattle  Washington   \n",
      "35      Gene Hale  Corporate  United States   Richardson       Texas   \n",
      "36      Gene Hale  Corporate  United States   Richardson       Texas   \n",
      "67  Brendan Sweed  Corporate  United States      Gilbert     Arizona   \n",
      "68  Brendan Sweed  Corporate  United States      Gilbert     Arizona   \n",
      "69  Karen Daniels   Consumer  United States  Springfield    Virginia   \n",
      "75    Ken Brennan  Corporate  United States      Houston       Texas   \n",
      "76    Ken Brennan  Corporate  United States      Houston       Texas   \n",
      "\n",
      "    Postal Code   Region       Product ID         Category Sub-Category  \\\n",
      "0       42420.0    South  FUR-BO-10001798        Furniture    Bookcases   \n",
      "1       42420.0    South  FUR-CH-10000454        Furniture       Chairs   \n",
      "13      98103.0     West  OFF-BI-10003656  Office Supplies      Binders   \n",
      "35      75080.0  Central  TEC-PH-10004977       Technology       Phones   \n",
      "36      75080.0  Central  FUR-FU-10003664        Furniture  Furnishings   \n",
      "67      85234.0     West  OFF-AR-10002671  Office Supplies          Art   \n",
      "68      85234.0     West  TEC-PH-10002726       Technology       Phones   \n",
      "69      22153.0    South  OFF-PA-10000482  Office Supplies        Paper   \n",
      "75      77041.0  Central  OFF-BI-10004182  Office Supplies      Binders   \n",
      "76      77041.0  Central  FUR-FU-10000260        Furniture  Furnishings   \n",
      "\n",
      "                                         Product Name     Sales  \n",
      "0                   Bush Somerset Collection Bookcase   261.960  \n",
      "1   Hon Deluxe Fabric Upholstered Stacking Chairs,...   731.940  \n",
      "13        Fellowes PB200 Plastic Comb Binding Machine   407.976  \n",
      "35                                        GE 30524EE4  1097.544  \n",
      "36  Electrix Architect's Clamp-On Swing Arm Lamp, ...   190.920  \n",
      "67  Hunt BOSTON Model 1606 High-Volume Electric Pe...  1113.024  \n",
      "68                 netTALK DUO VoIP Telephone Service   167.968  \n",
      "69  Snap-A-Way Black Print Carbonless Ruled Speed ...    75.880  \n",
      "75                                    Economy Binders     1.248  \n",
      "76                       6\" Cubicle Wall Clock, Black     9.708  \n"
     ]
    }
   ],
   "source": [
    "date_columns = ['Order Date', 'Ship Date']\n",
    "missing_date_columns = df[date_columns].isnull().any()\n",
    "# Print 10 complete rows where date has missing values\n",
    "missing_date_rows = df[df[date_columns].isnull().any(axis=1)].head(10)\n",
    "print(\"Rows with missing date values:\")\n",
    "print(missing_date_rows)\n",
    "\n",
    "# Print 10 complete rows where date does not have missing values\n",
    "complete_date_rows = df[~df[date_columns].isnull().any(axis=1)].head(10)\n",
    "print(\"Rows with complete date values:\")\n",
    "print(complete_date_rows)"
   ]
  },
  {
   "cell_type": "code",
   "execution_count": null,
   "metadata": {},
   "outputs": [],
   "source": []
  },
  {
   "cell_type": "code",
   "execution_count": null,
   "metadata": {},
   "outputs": [],
   "source": []
  },
  {
   "cell_type": "code",
   "execution_count": 157,
   "metadata": {},
   "outputs": [
    {
     "data": {
      "text/plain": [
       "Row ID                    int64\n",
       "Order ID                 object\n",
       "Order Date       datetime64[ns]\n",
       "Ship Date        datetime64[ns]\n",
       "Ship Mode                object\n",
       "Customer ID              object\n",
       "Customer Name            object\n",
       "Segment                  object\n",
       "Country                  object\n",
       "City                     object\n",
       "State                    object\n",
       "Postal Code             float64\n",
       "Region                   object\n",
       "Product ID               object\n",
       "Category                 object\n",
       "Sub-Category             object\n",
       "Product Name             object\n",
       "Sales                   float64\n",
       "dtype: object"
      ]
     },
     "execution_count": 157,
     "metadata": {},
     "output_type": "execute_result"
    }
   ],
   "source": [
    "df.dtypes"
   ]
  },
  {
   "cell_type": "code",
   "execution_count": 158,
   "metadata": {},
   "outputs": [
    {
     "data": {
      "text/plain": [
       "Row ID              0\n",
       "Order ID            0\n",
       "Order Date       5841\n",
       "Ship Date        5985\n",
       "Ship Mode           0\n",
       "Customer ID         0\n",
       "Customer Name       0\n",
       "Segment             0\n",
       "Country             0\n",
       "City                0\n",
       "State               0\n",
       "Postal Code        11\n",
       "Region              0\n",
       "Product ID          0\n",
       "Category            0\n",
       "Sub-Category        0\n",
       "Product Name        0\n",
       "Sales               0\n",
       "dtype: int64"
      ]
     },
     "execution_count": 158,
     "metadata": {},
     "output_type": "execute_result"
    }
   ],
   "source": [
    "df.isnull().sum()"
   ]
  },
  {
   "cell_type": "code",
   "execution_count": 159,
   "metadata": {},
   "outputs": [],
   "source": [
    "df.drop(['Row ID', 'Order ID','Customer Name'], axis=1, inplace=True)"
   ]
  },
  {
   "cell_type": "code",
   "execution_count": 160,
   "metadata": {},
   "outputs": [],
   "source": [
    "# Iterate over each column in the dataframe\n",
    "for column in df.columns:\n",
    "    try:\n",
    "        # Try to convert the column values to their respective data types\n",
    "        df[column] = df[column].astype(column_value_types[column])\n",
    "    except ValueError:\n",
    "        # If a value error occurs, print the column name\n",
    "        print(f\"Value Error detected in column: {column}\")"
   ]
  },
  {
   "cell_type": "markdown",
   "metadata": {},
   "source": [
    "To identify outliers in the 'Sales' column of the dataframe, we can calculate the z-scores for each value in the column. Here's the code:\n",
    "\n",
    "```python\n",
    "import numpy as np\n",
    "\n",
    "# Calculate the z-scores for the 'Sales' column\n",
    "z_scores = np.abs((df['Sales'] - df['Sales'].mean()) / df['Sales'].std())\n",
    "\n",
    "# Define a threshold for outlier detection\n",
    "threshold = 3\n",
    "\n",
    "# Get the indices of the outlier values\n",
    "outlier_indices = np.where(z_scores > threshold)[0]\n",
    "\n",
    "# Print the outlier values\n",
    "outlier_values = df.loc[outlier_indices, 'Sales']\n",
    "print(\"Outlier values in the 'Sales' column:\")\n",
    "print(outlier_values)\n",
    "```\n",
    "\n",
    "This code calculates the z-scores by subtracting the mean of the 'Sales' column from each value and dividing it by the standard deviation. Then, it defines a threshold value (in this case, 3) to identify outliers. Any value with a z-score greater than the threshold is considered an outlier. The code retrieves the indices of the outlier values and prints them."
   ]
  },
  {
   "cell_type": "code",
   "execution_count": 161,
   "metadata": {},
   "outputs": [
    {
     "name": "stdout",
     "output_type": "stream",
     "text": [
      "Outlier values in the 'Sales' column:\n",
      "27      3083.430\n",
      "165     8159.952\n",
      "251     3347.370\n",
      "262     3059.982\n",
      "263     2519.958\n",
      "          ...   \n",
      "9639    4297.644\n",
      "9649    3406.664\n",
      "9660    3023.928\n",
      "9741    4404.900\n",
      "9774    2177.584\n",
      "Name: Sales, Length: 123, dtype: float64\n"
     ]
    }
   ],
   "source": [
    "import numpy as np\n",
    "\n",
    "# Calculate the z-scores for the 'Sales' column\n",
    "z_scores = np.abs((df['Sales'] - df['Sales'].mean()) / df['Sales'].std())\n",
    "\n",
    "# Define a threshold for outlier detection\n",
    "threshold = 3\n",
    "\n",
    "# Get the indices of the outlier values\n",
    "outlier_indices = np.where(z_scores > threshold)[0]\n",
    "\n",
    "# Print the outlier values\n",
    "outlier_values = df.loc[outlier_indices, 'Sales']\n",
    "print(\"Outlier values in the 'Sales' column:\")\n",
    "print(outlier_values)"
   ]
  },
  {
   "cell_type": "code",
   "execution_count": 162,
   "metadata": {},
   "outputs": [
    {
     "data": {
      "image/png": "[encoded data removed]",
      "text/plain": [
       "<Figure size 640x480 with 1 Axes>"
      ]
     },
     "metadata": {},
     "output_type": "display_data"
    }
   ],
   "source": [
    "import matplotlib.pyplot as plt\n",
    "\n",
    "# Create a boxplot of the outlier values\n",
    "plt.boxplot(outlier_values)\n",
    "\n",
    "# Set the title and labels\n",
    "plt.title(\"Distribution of Outliers in 'Sales' Column\")\n",
    "plt.xlabel(\"Sales\")\n",
    "plt.ylabel(\"Outlier Values\")\n",
    "\n",
    "# Display the plot\n",
    "plt.show()"
   ]
  }
 ],
 "metadata": {
  "kernelspec": {
   "display_name": "Python 3",
   "language": "python",
   "name": "python3"
  },
  "language_info": {
   "codemirror_mode": {
    "name": "ipython",
    "version": 3
   },
   "file_extension": ".py",
   "mimetype": "text/x-python",
   "name": "python",
   "nbconvert_exporter": "python",
   "pygments_lexer": "ipython3",
   "version": "3.12.5"
  }
 },
 "nbformat": 4,
 "nbformat_minor": 2
}
