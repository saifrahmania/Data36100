{
  "cells": [
    {
      "cell_type": "markdown",
      "metadata": {
        "id": "bk3jcbFOJeut"
      },
      "source": [
        "## EXERCISE: Decision trees\n",
        "\n",
        "\n",
        "\n",
        "### Let's try a decision tree on Iris data.\n",
        "\n"
      ]
    },
    {
      "cell_type": "code",
      "execution_count": 20,
      "metadata": {
        "id": "IoQw6UDOJeuy"
      },
      "outputs": [],
      "source": [
        "\n",
        "import numpy as np\n",
        "from sklearn.model_selection import train_test_split\n",
        "from sklearn.datasets import load_iris\n",
        "\n",
        "iris = load_iris()\n",
        "key=', '.join(['{}={}'.format(i,name) for i,name in enumerate(iris.target_names)])\n",
        "\n",
        "# First let's create a train and test split\n",
        "X_train, X_test, Y_train, Y_test = train_test_split(iris.data, iris.target, test_size=0.33,\n",
        "                                                    random_state=5) # so we get the same results"
      ]
    },
    {
      "cell_type": "code",
      "execution_count": 21,
      "metadata": {
        "colab": {
          "base_uri": "https://localhost:8080/"
        },
        "id": "E-0KdfRmJeu2",
        "outputId": "372ad832-5210-4858-a676-4e710ca70240"
      },
      "outputs": [
        {
          "output_type": "stream",
          "name": "stdout",
          "text": [
            "Classification report (0=setosa, 1=versicolor, 2=virginica):\n",
            "\n",
            "              precision    recall  f1-score   support\n",
            "\n",
            "           0       1.00      1.00      1.00        16\n",
            "           1       0.89      0.94      0.91        17\n",
            "           2       0.94      0.88      0.91        17\n",
            "\n",
            "    accuracy                           0.94        50\n",
            "   macro avg       0.94      0.94      0.94        50\n",
            "weighted avg       0.94      0.94      0.94        50\n",
            "\n"
          ]
        }
      ],
      "source": [
        "from sklearn.tree import DecisionTreeClassifier\n",
        "from sklearn.metrics import classification_report\n",
        "# Let's fit a model\n",
        "tree = DecisionTreeClassifier(max_depth=2)\n",
        "_ = tree.fit(X_train, Y_train)\n",
        "\n",
        "# Evaluate\n",
        "print('Classification report ({}):\\n'.format(key))\n",
        "print(classification_report(Y_test, tree.predict(X_test)))"
      ]
    },
    {
      "cell_type": "markdown",
      "metadata": {
        "id": "PIkX41NpJeu3"
      },
      "source": [
        "## EXERCISE: Model selection on test data\n",
        "\n",
        "\n",
        "\n"
      ]
    },
    {
      "cell_type": "markdown",
      "metadata": {
        "id": "ToKjaF7lJeu4"
      },
      "source": [
        "### McNemar's test\n",
        "\n",
        "McNemar's test is [recommended when we have a single test split](http://sci2s.ugr.es/keel/pdf/algorithm/articulo/dietterich1998.pdf).\n",
        "\n",
        "Under H0, the two algorithms should have the same error rate."
      ]
    },
    {
      "cell_type": "code",
      "execution_count": 22,
      "metadata": {
        "id": "9jPazZ4yJeu5"
      },
      "outputs": [],
      "source": [
        "from scipy.stats import chi2\n",
        "\n",
        "def mcnemar(x, y):\n",
        "    n1 = np.sum(x < y)\n",
        "    n2 = np.sum(x > y)\n",
        "    stat = (np.abs(n1-n2)-1)**2 / (n1+n2)\n",
        "    df = 1\n",
        "    pval = chi2.sf(stat,1)\n",
        "    return stat, pval"
      ]
    },
    {
      "cell_type": "markdown",
      "metadata": {
        "id": "3qkCClkzJeu5"
      },
      "source": [
        "### TODO Compare classifiers\n",
        "\n",
        "- Choose the decision tree max_depth in [2..6], criterion in ['entropy', 'gini'] and splitter in ['best', 'random']. What are the best parameters? Print out all grid scores to sanity check the selection. Is there a unique best set of parameters?\n",
        "- Use `np.array` create `l_yn` and `t_yn` arrays showing respectively for logistic regression and decision tree whether each test instance is predicted correctly (`1`) or incorrectly (`0`). Are the classifiers significantly different at p<=0.05 according to McNemar's test?(use the logistic regression code from previous week)\n",
        "- Which classifier is significantly better at p<=0.05 using paired t-test?(use f-score measure)"
      ]
    },
    {
      "cell_type": "code",
      "execution_count": 23,
      "metadata": {
        "colab": {
          "base_uri": "https://localhost:8080/"
        },
        "id": "ezBRLJtwJeu6",
        "outputId": "bbde29ec-f052-433c-a3d0-5dc9d4587581"
      },
      "outputs": [
        {
          "output_type": "stream",
          "name": "stderr",
          "text": [
            "/usr/local/lib/python3.10/dist-packages/sklearn/linear_model/_logistic.py:469: ConvergenceWarning: lbfgs failed to converge (status=1):\n",
            "STOP: TOTAL NO. of ITERATIONS REACHED LIMIT.\n",
            "\n",
            "Increase the number of iterations (max_iter) or scale the data as shown in:\n",
            "    https://scikit-learn.org/stable/modules/preprocessing.html\n",
            "Please also refer to the documentation for alternative solver options:\n",
            "    https://scikit-learn.org/stable/modules/linear_model.html#logistic-regression\n",
            "  n_iter_i = _check_optimize_result(\n",
            "/usr/local/lib/python3.10/dist-packages/sklearn/linear_model/_logistic.py:469: ConvergenceWarning: lbfgs failed to converge (status=1):\n",
            "STOP: TOTAL NO. of ITERATIONS REACHED LIMIT.\n",
            "\n",
            "Increase the number of iterations (max_iter) or scale the data as shown in:\n",
            "    https://scikit-learn.org/stable/modules/preprocessing.html\n",
            "Please also refer to the documentation for alternative solver options:\n",
            "    https://scikit-learn.org/stable/modules/linear_model.html#logistic-regression\n",
            "  n_iter_i = _check_optimize_result(\n",
            "/usr/local/lib/python3.10/dist-packages/sklearn/linear_model/_logistic.py:469: ConvergenceWarning: lbfgs failed to converge (status=1):\n",
            "STOP: TOTAL NO. of ITERATIONS REACHED LIMIT.\n",
            "\n",
            "Increase the number of iterations (max_iter) or scale the data as shown in:\n",
            "    https://scikit-learn.org/stable/modules/preprocessing.html\n",
            "Please also refer to the documentation for alternative solver options:\n",
            "    https://scikit-learn.org/stable/modules/linear_model.html#logistic-regression\n",
            "  n_iter_i = _check_optimize_result(\n",
            "/usr/local/lib/python3.10/dist-packages/sklearn/linear_model/_logistic.py:469: ConvergenceWarning: lbfgs failed to converge (status=1):\n",
            "STOP: TOTAL NO. of ITERATIONS REACHED LIMIT.\n",
            "\n",
            "Increase the number of iterations (max_iter) or scale the data as shown in:\n",
            "    https://scikit-learn.org/stable/modules/preprocessing.html\n",
            "Please also refer to the documentation for alternative solver options:\n",
            "    https://scikit-learn.org/stable/modules/linear_model.html#logistic-regression\n",
            "  n_iter_i = _check_optimize_result(\n",
            "/usr/local/lib/python3.10/dist-packages/sklearn/linear_model/_logistic.py:469: ConvergenceWarning: lbfgs failed to converge (status=1):\n",
            "STOP: TOTAL NO. of ITERATIONS REACHED LIMIT.\n",
            "\n",
            "Increase the number of iterations (max_iter) or scale the data as shown in:\n",
            "    https://scikit-learn.org/stable/modules/preprocessing.html\n",
            "Please also refer to the documentation for alternative solver options:\n",
            "    https://scikit-learn.org/stable/modules/linear_model.html#logistic-regression\n",
            "  n_iter_i = _check_optimize_result(\n",
            "/usr/local/lib/python3.10/dist-packages/sklearn/linear_model/_logistic.py:469: ConvergenceWarning: lbfgs failed to converge (status=1):\n",
            "STOP: TOTAL NO. of ITERATIONS REACHED LIMIT.\n",
            "\n",
            "Increase the number of iterations (max_iter) or scale the data as shown in:\n",
            "    https://scikit-learn.org/stable/modules/preprocessing.html\n",
            "Please also refer to the documentation for alternative solver options:\n",
            "    https://scikit-learn.org/stable/modules/linear_model.html#logistic-regression\n",
            "  n_iter_i = _check_optimize_result(\n",
            "/usr/local/lib/python3.10/dist-packages/sklearn/linear_model/_logistic.py:469: ConvergenceWarning: lbfgs failed to converge (status=1):\n",
            "STOP: TOTAL NO. of ITERATIONS REACHED LIMIT.\n",
            "\n",
            "Increase the number of iterations (max_iter) or scale the data as shown in:\n",
            "    https://scikit-learn.org/stable/modules/preprocessing.html\n",
            "Please also refer to the documentation for alternative solver options:\n",
            "    https://scikit-learn.org/stable/modules/linear_model.html#logistic-regression\n",
            "  n_iter_i = _check_optimize_result(\n"
          ]
        },
        {
          "output_type": "stream",
          "name": "stdout",
          "text": [
            "Best parameters set found on development set:\n",
            "{'C': 10}\n",
            "Best parameters set found on development set:\n",
            "{'criterion': 'gini', 'max_depth': 6, 'splitter': 'random'}\n",
            "Classification report(0=setosa, 1=versicolor, 2=virginica):\n",
            "\n",
            "              precision    recall  f1-score   support\n",
            "\n",
            "           0       1.00      1.00      1.00        16\n",
            "           1       0.94      0.94      0.94        17\n",
            "           2       0.94      0.94      0.94        17\n",
            "\n",
            "    accuracy                           0.96        50\n",
            "   macro avg       0.96      0.96      0.96        50\n",
            "weighted avg       0.96      0.96      0.96        50\n",
            "\n"
          ]
        }
      ],
      "source": [
        "# TODO: replace the content of this cell with your solution\n",
        "from sklearn.model_selection import GridSearchCV\n",
        "from sklearn.linear_model import LogisticRegression\n",
        "\n",
        "\n",
        "param_grid = [{'C': [0.001, 0.01, 0.1, 1, 10, 100, 1000]}]\n",
        "logreg = GridSearchCV(LogisticRegression(), param_grid)\n",
        "logreg.fit(X_train, Y_train)\n",
        "print(\"Best parameters set found on development set:\")\n",
        "print(logreg.best_params_)\n",
        "\n",
        "param_grid = [{'max_depth': [2,3,4,5,6],\n",
        "              'criterion': ['entropy', 'gini'],\n",
        "              'splitter': ['best', 'random']}]\n",
        "tree = GridSearchCV(DecisionTreeClassifier(), param_grid)\n",
        "tree.fit(X_train, Y_train)\n",
        "print(\"Best parameters set found on development set:\")\n",
        "print(tree.best_params_)\n",
        "print('Classification report({}):\\n'.format(key))\n",
        "print(classification_report(Y_test, logreg.predict(X_test)))\n"
      ]
    },
    {
      "cell_type": "code",
      "execution_count": 24,
      "metadata": {
        "colab": {
          "base_uri": "https://localhost:8080/"
        },
        "id": "vU25NBzNJeu7",
        "outputId": "292a7ee6-ee56-4383-ac8e-6ef7ec3c0a8f"
      },
      "outputs": [
        {
          "output_type": "stream",
          "name": "stdout",
          "text": [
            "[1 2 2 0 2 1 0 1 0 1 1 2 2 2 0 0 2 2 0 0 1 2 0 1 1 2 1 1 1 2 0 1 1 0 1 0 0\n",
            " 2 0 2 2 1 0 0 1 2 1 2 2 0]\n",
            "[1 2 2 0 2 1 0 2 0 1 1 2 2 2 0 0 2 2 0 0 1 2 0 1 1 2 1 1 1 2 0 1 1 0 1 0 0\n",
            " 2 0 2 2 1 0 0 1 2 1 2 2 0]\n",
            "[1 1 2 0 2 1 0 2 0 1 1 1 2 2 0 0 2 2 0 0 1 2 0 1 1 2 1 1 1 2 0 1 1 0 1 0 0\n",
            " 2 0 2 2 1 0 0 1 2 1 2 2 0]\n",
            "[1 1 1 1 1 1 1 0 1 1 1 1 1 1 1 1 1 1 1 1 1 1 1 1 1 1 1 1 1 1 1 1 1 1 1 1 1\n",
            " 1 1 1 1 1 1 1 1 1 1 1 1 1]\n",
            "[1 0 1 1 1 1 1 0 1 1 1 0 1 1 1 1 1 1 1 1 1 1 1 1 1 1 1 1 1 1 1 1 1 1 1 1 1\n",
            " 1 1 1 1 1 1 1 1 1 1 1 1 1]\n",
            "p-value = 0.47950012218695337\n",
            "Fail to reject H0\n"
          ]
        }
      ],
      "source": [
        "# TODO: replace the content of this cell with your solution\n",
        "from sklearn.model_selection import GridSearchCV\n",
        "from sklearn.linear_model import LogisticRegression\n",
        "import numpy as np\n",
        "\n",
        "param_grid = [{'max_depth': [2,3,4,5,6],\n",
        "              'criterion': ['entropy', 'gini'],\n",
        "              'splitter': ['best', 'random']}]\n",
        "tree = GridSearchCV(DecisionTreeClassifier(), param_grid)\n",
        "tree.fit(X_train, Y_train)\n",
        "logit = LogisticRegression()\n",
        "logit.fit(X_train, Y_train)\n",
        "print(Y_test)\n",
        "print(logit.predict(X_test))\n",
        "print(tree.predict(X_test))\n",
        "\n",
        "l_yn = np.array([int(p==t) for p,t in zip(logit.predict(X_test),Y_test)])\n",
        "t_yn = np.array([int(p==t) for p,t in zip(tree.predict(X_test),Y_test)])\n",
        "print(l_yn)\n",
        "print(t_yn)\n",
        "\n",
        "pvalue = mcnemar(l_yn, t_yn)[1]\n",
        "print('p-value = {}'.format(pvalue))\n",
        "\n",
        "if pvalue < 0.05:\n",
        "    print('Reject H0')\n",
        "else:\n",
        "    print('Fail to reject H0')"
      ]
    },
    {
      "cell_type": "markdown",
      "metadata": {
        "id": "G_2QwwbOJeu8"
      },
      "source": [
        "## *STOP PLEASE. THE FOLLOWING IS FOR THE NEXT EXERCISE. THANKS.*"
      ]
    },
    {
      "cell_type": "markdown",
      "metadata": {
        "id": "tSIGKUi1Jeu9"
      },
      "source": [
        "# From data to decisions\n"
      ]
    },
    {
      "cell_type": "markdown",
      "metadata": {
        "id": "o3UvDwhHJeu9"
      },
      "source": [
        "## EXERCISE: Ensembling classifiers\n",
        "\n",
        "### Load and split data\n",
        "\n",
        "scikit-learn provides a `train_test_split` function (in `sklearn.cross_validation`). However, there is no function to do a three-way split into training, development and held-out test data.\n",
        "\n",
        "Let's create a three-way 50/25/25 train/dev/test split by using `train_test_split` two times."
      ]
    },
    {
      "cell_type": "code",
      "execution_count": 25,
      "metadata": {
        "id": "Mt6f0h2BJeu-"
      },
      "outputs": [],
      "source": [
        "from sklearn.model_selection import train_test_split\n",
        "from sklearn.datasets import load_digits\n",
        "\n",
        "# load digits data\n",
        "digits = load_digits()\n",
        "X, y = digits.data, digits.target\n",
        "X_td, X_test, y_td, y_test = train_test_split(digits.data, digits.target, test_size=0.25,\n",
        "                                              random_state=5) # so we get the same results\n",
        "X_train, X_dev, y_train, y_dev = train_test_split(X_td, y_td, test_size=0.33,\n",
        "                                                  random_state=5) # so we get the same results"
      ]
    },
    {
      "cell_type": "markdown",
      "metadata": {
        "id": "qEOuE6jRJeu_"
      },
      "source": [
        "### Plot error vs complexity for decision tree"
      ]
    },
    {
      "cell_type": "code",
      "execution_count": 26,
      "metadata": {
        "colab": {
          "base_uri": "https://localhost:8080/",
          "height": 472
        },
        "id": "g2eQa61GJeu_",
        "outputId": "fb36154d-e47e-4a63-ba2b-ef5ed399863d"
      },
      "outputs": [
        {
          "output_type": "display_data",
          "data": {
            "text/plain": [
              "<Figure size 640x480 with 1 Axes>"
            ],
            "image/png": "[encoded data removed]"
          },
          "metadata": {}
        }
      ],
      "source": [
        "%matplotlib inline\n",
        "from sklearn.tree import DecisionTreeClassifier\n",
        "import matplotlib.pyplot as plt\n",
        "\n",
        "\n",
        "def error(clf, X, y):\n",
        "    \"Calculate error as 1-accuracy\"\n",
        "    return 1-clf.score(X,y)\n",
        "\n",
        "\n",
        "\n",
        "complexities = []\n",
        "train_errors = []\n",
        "val_errors = []\n",
        "for max_depth in [2,4,6,8,10,12,14,16,32]:\n",
        "    clf = DecisionTreeClassifier(max_depth=max_depth)\n",
        "    clf.fit(X_train, y_train)\n",
        "    train_errors.append(error(clf,X_train,y_train))\n",
        "    val_errors.append(error(clf,X_dev,y_dev))\n",
        "    complexities.append(max_depth)\n",
        "\n",
        "plt.plot(complexities, train_errors, c='b', label='Training error')\n",
        "plt.plot(complexities, val_errors, c='r', label='Generalisation error')\n",
        "plt.ylim(0,1)\n",
        "plt.ylabel('Error')\n",
        "plt.xlabel('Model complexity')\n",
        "plt.title('Decision tree')\n",
        "plt.legend()\n",
        "plt.show()"
      ]
    },
    {
      "cell_type": "markdown",
      "metadata": {
        "id": "MBpFNQO6JevA"
      },
      "source": [
        "### TODO Assessing decision tree fit\n",
        "\n",
        "- Does training or generalisation error level out first? Why?\n",
        "- What is the best value of max_depth based on this plot?\n",
        "- Why doesn't generalisation error increase on the right"
      ]
    },
    {
      "cell_type": "code",
      "execution_count": 27,
      "metadata": {
        "id": "4JKV-akLJevA"
      },
      "outputs": [],
      "source": [
        "# TODO: replace the content of this cell with your solution\n",
        "\"\"\"\n",
        "1. Does training or generalization error level out first? Why?\n",
        "Answer: Usually, the training error levels out first. This is because as the model's complexity increases with higher max_depth, it becomes better at memorizing the training data. However, this doesn't guarantee improved generalization to new, unseen data. When max_depth gets too high, the model may overfit the training data, driving the training error close to zero while the generalization error stops decreasing or even begins to rise due to overfitting.\n",
        "\n",
        "2. What is the best value of max_depth based on this plot?\n",
        "Answer: The best value of max_depth is where the generalization error (or validation error) reaches its minimum before it starts to plateau or increase. You would look for the point on the plot where the validation error (red curve) is at its lowest. For example, if the validation error is lowest at max_depth = 6, that would be the optimal depth, since increasing complexity beyond this point doesn't significantly improve generalization and may even worsen it due to overfitting.\n",
        "\n",
        "3. Why doesn't generalization error increase on the right?\n",
        "Answer: In some cases, the generalization error may not rise as max_depth increases because the model has reached a point where it can't extract any more useful information from the training data. As a result, the validation error stabilizes, indicating the model has captured most of the meaningful patterns. Further increases in model complexity don’t lead to better test data performance. However, if the data contains noise, additional complexity could eventually lead to overfitting, which would cause the generalization error to increase.\n",
        "\"\"\"\n"
      ]
    },
    {
      "cell_type": "markdown",
      "metadata": {
        "id": "-l5LjnhtJevB"
      },
      "source": [
        "### Plot error vs complexity for random forest"
      ]
    },
    {
      "cell_type": "code",
      "execution_count": 28,
      "metadata": {
        "colab": {
          "base_uri": "https://localhost:8080/",
          "height": 472
        },
        "id": "Au25xyCNJevC",
        "outputId": "c339e13c-8e12-415e-aafc-5f818fd0f53e"
      },
      "outputs": [
        {
          "output_type": "display_data",
          "data": {
            "text/plain": [
              "<Figure size 640x480 with 1 Axes>"
            ],
            "image/png": "[encoded data removed]"
          },
          "metadata": {}
        }
      ],
      "source": [
        "from sklearn.ensemble import RandomForestClassifier\n",
        "\n",
        "complexities = []\n",
        "train_errors = []\n",
        "val_errors = []\n",
        "for n_estimators in [1,2,4,8,16,32,64]:\n",
        "    clf = RandomForestClassifier(n_estimators=n_estimators, max_depth=8)\n",
        "    clf.fit(X_train, y_train)\n",
        "    train_errors.append(error(clf,X_train,y_train))\n",
        "    val_errors.append(error(clf,X_dev,y_dev))\n",
        "    complexities.append(n_estimators)\n",
        "\n",
        "\n",
        "plt.plot(complexities, train_errors, c='b', label='Training error')\n",
        "plt.plot(complexities, val_errors, c='r', label='Generalisation error')\n",
        "plt.ylim(0,1)\n",
        "plt.ylabel('Error')\n",
        "plt.xlabel('Model complexity')\n",
        "plt.title('Random forest')\n",
        "plt.legend()\n",
        "plt.show()"
      ]
    },
    {
      "cell_type": "code",
      "execution_count": 28,
      "metadata": {
        "id": "PtPv8WewJevD"
      },
      "outputs": [],
      "source": []
    }
  ],
  "metadata": {
    "kernelspec": {
      "display_name": "Python 3 (ipykernel)",
      "language": "python",
      "name": "python3"
    },
    "language_info": {
      "codemirror_mode": {
        "name": "ipython",
        "version": 3
      },
      "file_extension": ".py",
      "mimetype": "text/x-python",
      "name": "python",
      "nbconvert_exporter": "python",
      "pygments_lexer": "ipython3",
      "version": "3.10.9"
    },
    "colab": {
      "provenance": []
    }
  },
  "nbformat": 4,
  "nbformat_minor": 0
}