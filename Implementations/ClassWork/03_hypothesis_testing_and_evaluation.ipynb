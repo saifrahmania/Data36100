{
  "cells": [
    {
      "cell_type": "markdown",
      "metadata": {
        "id": "xm221jxj4jH8"
      },
      "source": [
        "# Hypothesis testing and evaluation"
      ]
    },
    {
      "cell_type": "markdown",
      "metadata": {
        "collapsed": true,
        "id": "SFVPdyP64jH-"
      },
      "source": [
        "## EXERCISE: Comparing layouts\n",
        "\n",
        "### Experimental setup\n",
        "\n",
        "*Problem*: Find out which version of a display is better.\n",
        "\n",
        "*Question*: Do users prefer Grid view?\n",
        "\n",
        "*Null hypothesis*: Users do not prefer Grid view."
      ]
    },
    {
      "cell_type": "markdown",
      "metadata": {
        "id": "8bmcdDws4jH_"
      },
      "source": [
        "### Create ratings data\n",
        "\n",
        "We assume different subject groups for each conditions. Each subject sees one of the layouts and is asked to rate on a 5-point Likert scale how strongly the agree or disagree with the statement:\n",
        "\n",
        "> Page gives a good overview.\n",
        ">\n",
        "> 1=strongly agree; 2=agree; 3=neutral; 4=disagree; 5=strongly disagree\n",
        "\n",
        "G_data corresponds to ratings from users that see the grid view. L_data corresponds to ratings from users that see the list view."
      ]
    },
    {
      "cell_type": "code",
      "execution_count": null,
      "metadata": {
        "colab": {
          "base_uri": "https://localhost:8080/"
        },
        "id": "08N9qx854jIA",
        "outputId": "afb3ad82-e82d-423d-eb2d-1352f5455243"
      },
      "outputs": [
        {
          "output_type": "stream",
          "name": "stdout",
          "text": [
            "Grid median: 2.5\n",
            "List median: 4.0\n"
          ]
        }
      ],
      "source": [
        "from scipy import stats\n",
        "import numpy as np\n",
        "G_data = [1, 3, 3, 2, 4, 2, 3, 3, 1, 5, 2, 3, 4, 2, 1, 3, 2, 2, 1, 3,\n",
        "          2, 3, 4, 2, 1, 3, 2, 2, 1, 3, 1, 3, 3, 2, 4, 2, 3, 3, 1, 5]\n",
        "L_data = [4, 5, 2, 4, 4, 3, 5, 4, 3, 5, 1, 4, 5, 3, 4, 4, 2, 3, 4, 5,\n",
        "          1, 4, 5, 3, 4, 4, 2, 3, 4, 5, 4, 5, 2, 4, 4, 3, 5, 4, 3, 5]\n",
        "print('Grid median:', np.median(G_data))\n",
        "print('List median:', np.median(L_data))"
      ]
    },
    {
      "cell_type": "markdown",
      "metadata": {
        "id": "9GqdbY684jIB"
      },
      "source": [
        "### Visualise ratings data"
      ]
    },
    {
      "cell_type": "code",
      "execution_count": null,
      "metadata": {
        "colab": {
          "base_uri": "https://localhost:8080/",
          "height": 435
        },
        "id": "r9FogVmr4jIB",
        "outputId": "233e2d03-431a-42f8-ccb5-2493da94b8c2"
      },
      "outputs": [
        {
          "output_type": "display_data",
          "data": {
            "text/plain": [
              "<Figure size 640x480 with 1 Axes>"
            ],
            "image/png": "[encoded data removed]"
          },
          "metadata": {}
        }
      ],
      "source": [
        "%matplotlib inline\n",
        "from collections import Counter\n",
        "import matplotlib.pyplot as plt\n",
        "\n",
        "def count(data):\n",
        "    c = Counter(data)\n",
        "    return list(c.keys()), list(c.values())\n",
        "\n",
        "G_bins, G_freqs = count(G_data)\n",
        "L_bins, L_freqs = count(L_data)\n",
        "bar_width = 0.35\n",
        "\n",
        "_ = plt.bar([b-bar_width for b in G_bins], G_freqs, bar_width, color='blue', label='Grid')\n",
        "_ = plt.bar(L_bins, L_freqs, bar_width, color='purple', label='List')\n",
        "\n",
        "plt.xlim(0.5, 5.5)\n",
        "plt.ylim(0,20)\n",
        "_ = plt.legend()"
      ]
    },
    {
      "cell_type": "markdown",
      "metadata": {
        "id": "VLkNOBjc4jIC"
      },
      "source": [
        "### TODO Test whether list is preferred\n",
        "\n",
        "- Can we reject the null hypothesis at p<0.01 using the Mann-Whitney U test?\n",
        "- Do users prefer list view?"
      ]
    },
    {
      "cell_type": "code",
      "execution_count": null,
      "metadata": {
        "colab": {
          "base_uri": "https://localhost:8080/"
        },
        "id": "AtXSZgq64jIC",
        "outputId": "86c828f3-eb36-45a3-c905-07861771a48d"
      },
      "outputs": [
        {
          "output_type": "stream",
          "name": "stdout",
          "text": [
            "True\n",
            "Can you reject H0 yes\n"
          ]
        }
      ],
      "source": [
        "# TODO: replace the content of this cell with your Python solution\n",
        "mu_result = stats.mannwhitneyu(G_data, L_data)\n",
        "print(bool(mu_result.pvalue < 0.01))\n",
        "print(\"Can you reject H0\", \"yes\" if mu_result.pvalue <0.01 else \"NO\")"
      ]
    },
    {
      "cell_type": "markdown",
      "metadata": {
        "id": "3zAbSBrH4jIC"
      },
      "source": [
        "### TODO p-hacking example\n",
        "\n",
        "Imagine we instead measured average monthly spend. Let's assume a sample of 1000 grid users spend \\$155 on average with standard deviation 40, and a sample of 1000 list users spend \\$150 on average with standard deviation 40."
      ]
    },
    {
      "cell_type": "code",
      "execution_count": null,
      "metadata": {
        "id": "pcDAqKuF4jIC"
      },
      "outputs": [],
      "source": [
        "\n",
        "N = 1000\n",
        "G_mu, G_sigma = 155, 40\n",
        "L_mu, L_sigma = 150, 40\n",
        "\n",
        "def run_experiment():\n",
        "    G_spend = np.random.normal(G_mu, G_sigma, N)\n",
        "    L_spend = np.random.normal(L_mu, L_sigma, N)\n",
        "    return stats.ttest_ind(G_spend, L_spend).pvalue*0.5 # one-tailed for testing G_mu > L_mu"
      ]
    },
    {
      "cell_type": "markdown",
      "metadata": {
        "id": "ONpPhYhg4jID"
      },
      "source": [
        "- Run 1000 experiments\n",
        "- For what percentage of experiments do we fail to reject the null hypothesis at 0.05?\n",
        "- Do your neighbours get the same percentage?\n",
        "- How can we avoid false rejections?"
      ]
    },
    {
      "cell_type": "code",
      "execution_count": null,
      "metadata": {
        "colab": {
          "base_uri": "https://localhost:8080/"
        },
        "id": "xOgidK4_4jID",
        "outputId": "0a40ce91-5c86-4684-dc14-58a6988e5d82"
      },
      "outputs": [
        {
          "output_type": "stream",
          "name": "stdout",
          "text": [
            "We fail to reject H0:13% of the times \n"
          ]
        }
      ],
      "source": [
        "from ast import Num\n",
        "from os import access\n",
        "# TODO: replace the content of this cell with your Python solution\n",
        "num_exp = 1000\n",
        "pvalues =[]\n",
        "for i in range(1000):\n",
        "  pvalues.append(run_experiment())\n",
        "\n",
        "alpha = 0.05\n",
        "\n",
        "print(\"We fail to reject H0: {:.0f}% of the times \".format(100*sum([1 if p>=alpha else 0 for p in pvalues])/num_exp))"
      ]
    },
    {
      "cell_type": "markdown",
      "metadata": {
        "id": "5jDpfs044jID"
      },
      "source": [
        "## *STOP PLEASE. THE FOLLOWING IS FOR THE NEXT EXERCISE. THANKS.*"
      ]
    },
    {
      "cell_type": "markdown",
      "metadata": {
        "id": "G0LzkDsM4jID"
      },
      "source": [
        "## EXERCISE: Comparing mobile behaviour\n",
        "\n",
        "### Experimental setup\n",
        "\n",
        "Adapted from http://www.beefissuesquarterly.com/beefissuesquarterly.aspx?id=4078.\n",
        "\n",
        "*Problem*: Find out whether there is a difference in mobile behaviour between generations.\n",
        "\n",
        "*Question*: Is there any difference between groups?\n",
        "\n",
        "*Null hypothesis*: Group means are the same."
      ]
    },
    {
      "cell_type": "markdown",
      "metadata": {
        "id": "HQS_yAug4jID"
      },
      "source": [
        "### Generate generation data\n",
        "\n",
        "Imagine we conducted a survey of 200 baby boomers (born 1945-1960), 200 generation xers (born 1961-1980) and 200 millennials (born 1981-1995).\n",
        "\n",
        "For the purposes of this exercise, let's generate some simulated samples. We assume:\n",
        "- Boomers send 5 texts per day on average with standard deviation 2;\n",
        "- GenXers send 12 texts per day on average with standard deviation 3;\n",
        "- Millennials send 20 texts per day on average with standard deviation 5.\n",
        "\n",
        "We use `numpy.random.normal` to generate random values from a normal distribution with these parameters"
      ]
    },
    {
      "cell_type": "code",
      "execution_count": null,
      "metadata": {
        "id": "NCYzaMvS4jIE"
      },
      "outputs": [],
      "source": [
        "import numpy as np\n",
        "N = 200\n",
        "B_mu, B_sigma = 5, 2\n",
        "X_mu, X_sigma = 12, 3\n",
        "M_mu, M_sigma = 20, 5\n",
        "B_data = [int(round(n)) for n in np.random.normal(B_mu, B_sigma, N)]\n",
        "X_data = [int(round(n)) for n in np.random.normal(X_mu, X_sigma, N)]\n",
        "M_data = [int(round(n)) for n in np.random.normal(M_mu, M_sigma, N)]"
      ]
    },
    {
      "cell_type": "markdown",
      "metadata": {
        "id": "tRve3Vyg4jIE"
      },
      "source": [
        "### Visualise generation data\n",
        "\n",
        "Let's use the `matplotlib.pyplot.hist` function to plot our visualise our three distributions."
      ]
    },
    {
      "cell_type": "code",
      "execution_count": null,
      "metadata": {
        "colab": {
          "base_uri": "https://localhost:8080/",
          "height": 449
        },
        "id": "-JO4Zr2s4jIE",
        "outputId": "e815bda7-98c5-43a2-f0dc-b3f64bae1c2b"
      },
      "outputs": [
        {
          "output_type": "display_data",
          "data": {
            "text/plain": [
              "<Figure size 640x480 with 1 Axes>"
            ],
            "image/png": "[encoded data removed]"
          },
          "metadata": {}
        }
      ],
      "source": [
        "%matplotlib inline\n",
        "import matplotlib.pyplot as plt\n",
        "import matplotlib.patches as mpatches\n",
        "start,end,n_bins = 0,30,30\n",
        "_,_,_ = plt.hist(B_data, bins=n_bins, range=(start,end), color='blue')\n",
        "_,_,_ = plt.hist(X_data, bins=n_bins, range=(start,end), color='purple')\n",
        "_,_,_ = plt.hist(M_data, bins=n_bins, range=(start,end), color='red')\n",
        "_ = plt.legend(handles=[mpatches.Patch(color='blue', label='Boomers'),\n",
        "                    mpatches.Patch(color='purple', label='GenXers'),\n",
        "                    mpatches.Patch(color='red', label='Millennials')])\n",
        "_ = plt.xlabel('Number of texts per day (t)')\n",
        "_ = plt.ylabel('Number of responses for t')"
      ]
    },
    {
      "cell_type": "markdown",
      "metadata": {
        "id": "KhgA8MhJ4jIE"
      },
      "source": [
        "### TODO Test for differences\n",
        "\n",
        "- Use one-way analysis of variance (ANOVA) to test whether the sample means are the same.\n",
        "- Can we reject the null hypothesis at p<0.01?\n",
        "- Is there a reliable difference in texting behaviour between generations?"
      ]
    },
    {
      "cell_type": "code",
      "execution_count": null,
      "metadata": {
        "colab": {
          "base_uri": "https://localhost:8080/"
        },
        "id": "Cn4UKx-q4jIE",
        "outputId": "da8a9a17-5dbc-4094-ee5e-57c19467fa71"
      },
      "outputs": [
        {
          "output_type": "stream",
          "name": "stdout",
          "text": [
            "True\n"
          ]
        }
      ],
      "source": [
        "from scipy import stats\n",
        "anova_result = stats.f_oneway(B_data, X_data, M_data)\n",
        "print(bool(anova_result.pvalue < 0.01))"
      ]
    },
    {
      "cell_type": "markdown",
      "metadata": {
        "id": "iHR5JAb84jIE"
      },
      "source": [
        "### TODO Check ANOVA assumptions\n",
        "\n",
        "- Does our data meet the assumptions for a one-way ANOVA?\n",
        "- Can we reject the null hypothesis using the Kruskall-Wallis H-test?\n",
        "- Is there a reliable difference in texting behaviour between generations?"
      ]
    },
    {
      "cell_type": "code",
      "execution_count": null,
      "metadata": {
        "colab": {
          "base_uri": "https://localhost:8080/"
        },
        "id": "tf5DzvCU4jIE",
        "outputId": "346835f9-089c-4c62-ddac-82d2b3a140bc"
      },
      "outputs": [
        {
          "output_type": "stream",
          "name": "stdout",
          "text": [
            "Can you reject H0 yes\n",
            "2.6421142064340177e-102\n"
          ]
        }
      ],
      "source": [
        "# TODO: replace the content of this cell with your Python solution\n",
        "kruskal_result = stats.kruskal(B_data, X_data, M_data)\n",
        "# print(bool(kruskal_result.pvalue < 0.01))\n",
        "print(\"Can you reject H0\", \"yes\" if kruskal_result.pvalue <0.01 else \"NO\")\n",
        "print(kruskal_result.pvalue)"
      ]
    },
    {
      "cell_type": "markdown",
      "metadata": {
        "id": "Riw3r-6S4jIF"
      },
      "source": [
        "### TODO Further generation exercises\n",
        "\n",
        "Imagine we wanted to compare millennials to generation z (born since 1996). Let's assume this population sends 21 texts per day on average with standard deviation 5.\n",
        "\n",
        "- Generate a simulated sample Z_data.\n",
        "- What test should we use?\n",
        "- Is there a reliable difference in texting behaviour between millennials and generation Z?"
      ]
    },
    {
      "cell_type": "code",
      "execution_count": null,
      "metadata": {
        "colab": {
          "base_uri": "https://localhost:8080/"
        },
        "id": "SKPFw7hN4jIF",
        "outputId": "8d483ec3-679f-4404-da63-127c97e7c547"
      },
      "outputs": [
        {
          "output_type": "stream",
          "name": "stdout",
          "text": [
            "1.224395100766643e-47\n",
            "Can you reject H0 yes\n",
            "There  is a 0.00% chance of falsely obtaining this result\n"
          ]
        }
      ],
      "source": [
        "# TODO: replace the content of this cell with your Python solution\n",
        "M_mu, M_sigma = 20, 5\n",
        "Z_mu, Z_sigma = 21, 5\n",
        "M_data = [int(round(n)) for n in np.random.normal(M_mu, M_sigma, N)]\n",
        "Z_data = [int(round(n)) for n in np.random.normal(Z_mu, Z_sigma, N)]\n",
        "anova_result = stats.f_oneway(Z_data, M_data)\n",
        "print(anova_result.pvalue)\n",
        "print(\"Can you reject H0\", \"yes\" if anova_result.pvalue <0.01 else \"NO\")\n",
        "print(\"There  is a {:0.2f}% chance of falsely obtaining this result\".format(anova_result.pvalue*100))"
      ]
    },
    {
      "cell_type": "markdown",
      "metadata": {
        "id": "sa0_NXKx4jIF"
      },
      "source": [
        "## *STOP PLEASE. THE FOLLOWING IS FOR THE NEXT EXERCISE. THANKS.*"
      ]
    },
    {
      "cell_type": "markdown",
      "metadata": {
        "id": "-UvdoYRn4jIF"
      },
      "source": [
        "## EXERCISE: Comparing classifiers\n",
        "\n",
        "### Experimental setup\n",
        "\n",
        "*Problem*: Determine which classifer is better.\n",
        "\n",
        "*Question*: Is my shiny, new model better?\n",
        "\n",
        "*Null hypothesis*: The new model is not better."
      ]
    },
    {
      "cell_type": "markdown",
      "metadata": {
        "id": "Ht5j65HZ4jIF"
      },
      "source": [
        "### Generate gold and classifier labellings\n",
        "\n",
        "We generate 10,000 gold labels, marking a approximately 20% as spam (1) based on a random number generator and the rest as ham (0)."
      ]
    },
    {
      "cell_type": "code",
      "execution_count": null,
      "metadata": {
        "colab": {
          "base_uri": "https://localhost:8080/"
        },
        "id": "eV8TRjRw4jIF",
        "outputId": "e34f0222-a840-479b-fd6b-9ac43f6b2fef"
      },
      "outputs": [
        {
          "output_type": "stream",
          "name": "stdout",
          "text": [
            "Counter({0: 7965, 1: 2035})\n"
          ]
        }
      ],
      "source": [
        "import random\n",
        "random.random()\n",
        "N = 10000\n",
        "GOLD_PCT_SPAM = 0.2\n",
        "Y_gold = [int(random.random()<GOLD_PCT_SPAM) for _ in range(N)]\n",
        "\n",
        "freq = Counter(Y_gold)\n",
        "print (freq)"
      ]
    },
    {
      "cell_type": "markdown",
      "metadata": {
        "id": "G0m0SSVS4jIF"
      },
      "source": [
        "We generate two system labellings by ranodomly flipping gold labels assuming:\n",
        "- System 1 incorrectly marks 5% of ham as spam and fails to detect 20% of actual spam,\n",
        "- System 2 incorrectly marks 10% of ham as spam and fails to detect 10% of actual spam."
      ]
    },
    {
      "cell_type": "code",
      "execution_count": null,
      "metadata": {
        "colab": {
          "base_uri": "https://localhost:8080/"
        },
        "id": "Eww2ZtAN4jIG",
        "outputId": "ae125220-2178-4e98-e10b-ddc6023c535c"
      },
      "outputs": [
        {
          "output_type": "stream",
          "name": "stdout",
          "text": [
            "Predicted     0     1\n",
            "Actual               \n",
            "0          7555   410\n",
            "1           361  1674\n",
            "\n",
            "Predicted     0     1\n",
            "Actual               \n",
            "0          7150   815\n",
            "1           168  1867\n"
          ]
        }
      ],
      "source": [
        "import pandas as pd\n",
        "\n",
        "SYS1_ERROR_RATES = {\n",
        "    0: 0.05,  # spurious: sys1 incorrectly marks 5% of ham as spam\n",
        "    1: 0.2,   # misses: sys1 fails to detect 20% of spam\n",
        "}\n",
        "SYS2_ERROR_RATES = {\n",
        "    0: 0.1,  # spurious: sys2 incorrectly marks 10% of ham as spam\n",
        "    1: 0.1   # misses: sys2 fails to detect 10% of spam\n",
        "}\n",
        "\n",
        "def simulate_predictions(Yg, error_rates):\n",
        "    for y in Yg:\n",
        "        if random.random()<error_rates[y]:\n",
        "            yield 1-y\n",
        "        else:\n",
        "            yield y\n",
        "\n",
        "Y_sys1 = list(simulate_predictions(Y_gold, SYS1_ERROR_RATES))\n",
        "Y_sys2 = list(simulate_predictions(Y_gold, SYS2_ERROR_RATES))\n",
        "\n",
        "y_actu = pd.Series(Y_gold, name='Actual')\n",
        "y_pred_s1 = pd.Series(Y_sys1, name='Predicted')\n",
        "y_pred_s2 = pd.Series(Y_sys2, name='Predicted')\n",
        "\n",
        "confusion_s1 = pd.crosstab(y_actu,y_pred_s1)\n",
        "print(confusion_s1)\n",
        "print()\n",
        "confusion_s2 = pd.crosstab(y_actu, y_pred_s2)\n",
        "print(confusion_s2)"
      ]
    },
    {
      "cell_type": "markdown",
      "metadata": {
        "id": "uFnwz3_H4jIG"
      },
      "source": [
        "### Split data into folds"
      ]
    },
    {
      "cell_type": "code",
      "execution_count": null,
      "metadata": {
        "colab": {
          "base_uri": "https://localhost:8080/"
        },
        "id": "Mz_zeQw54jIG",
        "outputId": "f0c13032-1389-45a8-8068-7674e1e8ecc3"
      },
      "outputs": [
        {
          "output_type": "stream",
          "name": "stdout",
          "text": [
            "Counter({0: 791, 1: 209})\n",
            "Counter({0: 800, 1: 200})\n",
            "Counter({0: 737, 1: 263})\n"
          ]
        }
      ],
      "source": [
        "import numpy as np\n",
        "NUM_FOLDS = 10\n",
        "Y_gold_folds = np.array_split(Y_gold, NUM_FOLDS)\n",
        "Y_sys1_folds = np.array_split(Y_sys1, NUM_FOLDS)\n",
        "Y_sys2_folds = np.array_split(Y_sys2, NUM_FOLDS)\n",
        "\n",
        "freq = Counter(Y_gold_folds[0])\n",
        "print (freq)\n",
        "freq = Counter(Y_sys1_folds[0])\n",
        "print (freq)\n",
        "freq = Counter(Y_sys2_folds[0])\n",
        "print (freq)"
      ]
    },
    {
      "cell_type": "markdown",
      "metadata": {
        "id": "ncceER_84jIG"
      },
      "source": [
        "### TODO Calculating classifier accuracy\n",
        "\n",
        "- Calculate accuracy and f1 scores on first fold.\n",
        "- Which system has higher accuracy?\n",
        "- Which system has higher f1 score?\n",
        "- Which measure has better sensitivity for comparisons?\n",
        "- Which measure would you rather report?"
      ]
    },
    {
      "cell_type": "code",
      "execution_count": null,
      "metadata": {
        "colab": {
          "base_uri": "https://localhost:8080/"
        },
        "id": "PL2ZpR0v4jIG",
        "outputId": "a5d322ae-f78f-4009-d98c-5d2a68682c2b"
      },
      "outputs": [
        {
          "output_type": "stream",
          "name": "stdout",
          "text": [
            "Predicted    0    1\n",
            "Actual             \n",
            "0          758   33\n",
            "1           42  167\n",
            "\n",
            "Predicted    0    1\n",
            "Actual             \n",
            "0          716   75\n",
            "1           21  188\n",
            "System 1 accuracy: 0.925\n",
            "System 2 accuracy: 0.904\n",
            "System 1 f1 score: 0.8166259168704156\n",
            "System 2 f1 score: 0.7966101694915254\n"
          ]
        }
      ],
      "source": [
        "from sklearn.metrics import accuracy_score, precision_score, recall_score, f1_score\n",
        "\n",
        "PRF_KWARGS = {\n",
        "    'pos_label': 1,     # 1 is the positive spam label\n",
        "    'average': 'binary' # evaluate p/r/f of the positive label\n",
        "}\n",
        "\n",
        "Yg0 = Y_gold_folds[0]\n",
        "Y10 = Y_sys1_folds[0]\n",
        "Y20 = Y_sys2_folds[0]\n",
        "\n",
        "y_actu = pd.Series(Yg0, name='Actual')\n",
        "y_pred_s1 = pd.Series(Y10, name='Predicted')\n",
        "y_pred_s2 = pd.Series(Y20, name='Predicted')\n",
        "confusion_s1 = pd.crosstab(y_actu ,y_pred_s1 )\n",
        "print(confusion_s1)\n",
        "print()\n",
        "confusion_s2 = pd.crosstab(y_actu, y_pred_s2 )\n",
        "print(confusion_s2)\n",
        "\n",
        "\n",
        "print(\"System 1 accuracy:\", accuracy_score(Yg0, Y10))\n",
        "print(\"System 2 accuracy:\", accuracy_score(Yg0, Y20))\n",
        "print(\"System 1 f1 score:\", f1_score(Yg0, Y10, **PRF_KWARGS))\n",
        "print(\"System 2 f1 score:\", f1_score(Yg0, Y20, **PRF_KWARGS))"
      ]
    },
    {
      "cell_type": "markdown",
      "metadata": {
        "id": "0LTqYyN84jIG"
      },
      "source": [
        "- Calculate precision and recall scores on first fold.\n",
        "- Which system has higher precision?\n",
        "- Which system has higher recall?\n",
        "- Formulate precision and recall in terms GOLD_PCT_SPAM, SPURIOUS_ERROR_RATE and MISSED_ERROR_RATE\n",
        "- Are precision and recall values as expected?"
      ]
    },
    {
      "cell_type": "code",
      "execution_count": null,
      "metadata": {
        "colab": {
          "base_uri": "https://localhost:8080/"
        },
        "id": "yBqEZfMd4jIH",
        "outputId": "aeb270f3-9184-42c5-8c30-d58f99b4d119"
      },
      "outputs": [
        {
          "output_type": "stream",
          "name": "stdout",
          "text": [
            "System 1 precision: 0.835\n",
            "System 1 recall: 0.7990430622009569\n",
            "System 2 precision: 0.714828897338403\n",
            "System 2 recall: 0.8995215311004785\n"
          ]
        }
      ],
      "source": [
        "# TODO: replace the content of this cell with your Python solution\n",
        "print(\"System 1 precision:\", precision_score(Yg0, Y10))\n",
        "print(\"System 1 recall:\", recall_score(Yg0, Y10))\n",
        "\n",
        "print(\"System 2 precision:\", precision_score(Yg0, Y20))\n",
        "print(\"System 2 recall:\", recall_score(Yg0, Y20))"
      ]
    },
    {
      "cell_type": "markdown",
      "metadata": {
        "id": "OQEMA7cL4jIH"
      },
      "source": [
        "### TODO Calculate accuracy score across folds\n",
        "\n",
        "- Calculate accuracy across folds\n",
        "- Compare mean and standard deviation"
      ]
    },
    {
      "cell_type": "code",
      "execution_count": null,
      "metadata": {
        "colab": {
          "base_uri": "https://localhost:8080/"
        },
        "id": "bZDQL9RG4jIH",
        "outputId": "70c236e5-69fb-4f44-ee91-2919f69ffa29"
      },
      "outputs": [
        {
          "output_type": "stream",
          "name": "stdout",
          "text": [
            "System 1 mu, sigma: 0.9229 0.003700000000000003\n",
            "System 2 mu, sigma: 0.9017000000000002 0.00945568612000209\n"
          ]
        }
      ],
      "source": [
        "def score_folds(Ygf, Ysf, scorer, **kwargs):\n",
        "    for Yg, Ys in zip(Ygf, Ysf):\n",
        "        yield scorer(Yg, Ys, **kwargs)\n",
        "\n",
        "Y_sys1_accuracy = list(score_folds(Y_gold_folds, Y_sys1_folds, accuracy_score))\n",
        "Y_sys2_accuracy = list(score_folds(Y_gold_folds, Y_sys2_folds, accuracy_score))\n",
        "\n",
        "print(\"System 1 mu, sigma:\", np.mean(Y_sys1_accuracy), np.std(Y_sys1_accuracy))\n",
        "print(\"System 2 mu, sigma:\", np.mean(Y_sys2_accuracy), np.std(Y_sys2_accuracy))\n"
      ]
    },
    {
      "cell_type": "markdown",
      "metadata": {
        "id": "xvxnfelh4jIH"
      },
      "source": [
        "- Calculate f1_score across folds\n",
        "- Compare mean and standard deviation"
      ]
    },
    {
      "cell_type": "code",
      "execution_count": null,
      "metadata": {
        "colab": {
          "base_uri": "https://localhost:8080/"
        },
        "id": "nzfaydq64jIM",
        "outputId": "daa8b76c-0fa3-4269-bddf-a1815c5a288f"
      },
      "outputs": [
        {
          "output_type": "stream",
          "name": "stdout",
          "text": [
            "System 1 mu, sigma: 0.8119873901884823 0.017027843257674077\n",
            "System 2 mu, sigma: 0.7912607487709932 0.020868620211944366\n"
          ]
        }
      ],
      "source": [
        "# TODO: replace the content of this cell with your Python solution\n",
        "Y_sys1_f1 = list(score_folds(Y_gold_folds, Y_sys1_folds, f1_score, **PRF_KWARGS))\n",
        "Y_sys2_f1 = list(score_folds(Y_gold_folds, Y_sys2_folds, f1_score, **PRF_KWARGS))\n",
        "\n",
        "print(\"System 1 mu, sigma:\", np.mean(Y_sys1_f1), np.std(Y_sys1_f1))\n",
        "print(\"System 2 mu, sigma:\", np.mean(Y_sys2_f1), np.std(Y_sys2_f1))"
      ]
    },
    {
      "cell_type": "markdown",
      "metadata": {
        "id": "MrZxwpxH4jIM"
      },
      "source": [
        "### TODO Compute signficance for H1 sys1 > sys2\n",
        "\n",
        "- Calculate one-sided paired t-test for accurach and f1 score\n",
        "- How do your average scores compare to your neighbours (or across multiple runs)?\n",
        "- How do your p-values compare to your neighbours (or across multiple runs)?\n",
        "- Would you expect this variation in a real experiment?\n",
        "- What does this variation say about reliability of experiments?\n",
        "- How can we increase reliability?"
      ]
    },
    {
      "cell_type": "code",
      "execution_count": null,
      "metadata": {
        "colab": {
          "base_uri": "https://localhost:8080/"
        },
        "id": "NvIrETw84jIM",
        "outputId": "4e74849c-b080-428c-f19d-326abdaff201"
      },
      "outputs": [
        {
          "output_type": "stream",
          "name": "stdout",
          "text": [
            "TtestResult(statistic=2.835937253149577, pvalue=0.019532223061691428, df=9)\n",
            "Can you reject H0:  NO\n"
          ]
        }
      ],
      "source": [
        "# TODO: replace the content of this cell with your Python solution\n",
        "test_result = stats.ttest_rel(Y_sys1_f1, Y_sys2_f1)\n",
        "print(test_result)\n",
        "print(\"Can you reject H0: \", \"yes\" if test_result.pvalue <0.01 else \"NO\")"
      ]
    },
    {
      "cell_type": "markdown",
      "metadata": {
        "id": "r1jswuyZ4jIM"
      },
      "source": [
        "## *End of the tutorial*"
      ]
    }
  ],
  "metadata": {
    "kernelspec": {
      "display_name": "Python 3 (ipykernel)",
      "language": "python",
      "name": "python3"
    },
    "language_info": {
      "codemirror_mode": {
        "name": "ipython",
        "version": 3
      },
      "file_extension": ".py",
      "mimetype": "text/x-python",
      "name": "python",
      "nbconvert_exporter": "python",
      "pygments_lexer": "ipython3",
      "version": "3.10.9"
    },
    "colab": {
      "provenance": []
    }
  },
  "nbformat": 4,
  "nbformat_minor": 0
}